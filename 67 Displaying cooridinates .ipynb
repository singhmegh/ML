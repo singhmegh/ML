{
 "cells": [
  {
   "cell_type": "markdown",
   "id": "c6be08e2-b64f-4400-8dfc-22a4f59c47bc",
   "metadata": {},
   "source": [
    "# Displaying coordinate & color code of the points clicked on the image"
   ]
  },
  {
   "cell_type": "code",
   "execution_count": 1,
   "id": "ba2ce4d5-9a67-4967-a22e-680d2f48a05d",
   "metadata": {},
   "outputs": [],
   "source": [
    "import cv2\n",
    "import numpy as np"
   ]
  },
  {
   "cell_type": "code",
   "execution_count": 8,
   "id": "cb6cca0f-5c72-4f32-8c9c-394d54f0d876",
   "metadata": {},
   "outputs": [],
   "source": [
    "def click_b(event,x,y,f,p):\n",
    "    if event == cv2.EVENT_LBUTTONDOWN:\n",
    "        s = f\"{x},{y}\"                                                   # Convert coordinates to string\n",
    "        cv2.putText(img,s,(x,y),cv2.FONT_HERSHEY_COMPLEX,0.5,(0,0,0))    \n",
    "        cv2.imshow(\"org\",img)\n",
    "    elif event == cv2.EVENT_RBUTTONDOWN:\n",
    "        b = img[y,x,0]                    # Blue channel value at that pixel\n",
    "        g = img[y,x,1]                    # green channel value at that pixel\n",
    "        r = img[y,x,2]                    # red channel value at that pixel\n",
    "        s = f\"{b},{g},{r}\"\n",
    "        cv2.putText(img,s,(x,y),cv2.FONT_HERSHEY_COMPLEX,0.5,(0,0,0))\n",
    "        cv2.imshow(\"org\",img)                                                   # Left-click → show pixel coordinates (x,y).\n",
    "                                                                                # Right-click → show pixel color values (B,G,R).\n",
    "                                                 \n",
    "img = cv2.imread(\"D:/c data/cvimg/img3.jpeg\")\n",
    "\n",
    "cv2.imshow(\"org\",img)\n",
    "\n",
    "cv2.setMouseCallback(\"org\",click_b)\n",
    "\n",
    "cv2.waitKey(0)\n",
    "cv2.destroyAllWindows()"
   ]
  },
  {
   "cell_type": "code",
   "execution_count": null,
   "id": "ed0d76af-f107-4ad0-9007-f9eafe3501c3",
   "metadata": {},
   "outputs": [],
   "source": []
  },
  {
   "cell_type": "markdown",
   "id": "f643fb0b-0185-4688-9f05-6dbaa8581d03",
   "metadata": {},
   "source": [
    "# play a vedio in reverse mode"
   ]
  },
  {
   "cell_type": "code",
   "execution_count": 16,
   "id": "e61ba6c0-6277-4895-b51b-2b7fddd6df55",
   "metadata": {},
   "outputs": [],
   "source": [
    "cap = cv2.VideoCapture(\"D:/c data/cvimg/mixkit-man-and-woman-jogging-together-on-the-street-40881-hd-ready.mp4\")\n",
    "l=[]\n",
    "c=1\n",
    "while cap.isOpened():\n",
    "    r,f = cap.read()\n",
    "    if r == True:\n",
    "        file_name = \"C:/Users/sumit/OneDrive/Desktop/rev/demo\" + str(c) + \".jpg\"\n",
    "        l.append(file_name)\n",
    "        cv2.imwrite(file_name,f)\n",
    "        c=c+1\n",
    "        cv2.imshow(\"org\",f)\n",
    "        if cv2.waitKey(25) & 0xff == ord(\"m\"):\n",
    "            break\n",
    "    else:\n",
    "        break\n",
    "l.reverse()\n",
    "for i in l:\n",
    "    img_new = cv2.imread(i)\n",
    "    cv2.imshow(\"rev\",img_new)\n",
    "    if cv2.waitKey(25) & 0xff == ord(\"q\"):\n",
    "        break\n",
    "\n",
    "cv2.waitKey(0)                                               #Storage heavy\n",
    "cv2.destroyAllWindows()                                      # slow          "
   ]
  },
  {
   "cell_type": "code",
   "execution_count": 18,
   "id": "e9e55aff-e309-4ee2-b4b5-00b4ff152fba",
   "metadata": {},
   "outputs": [],
   "source": [
    "cap = cv2.VideoCapture(\"D:/c data/cvimg/mixkit-man-and-woman-jogging-together-on-the-street-40881-hd-ready.mp4\")\n",
    "frames = []\n",
    "\n",
    "while cap.isOpened():\n",
    "    r, f = cap.read()\n",
    "    if not r:\n",
    "        break\n",
    "    frames.append(f)             # store frame in memory\n",
    "    cv2.imshow(\"org\", f)\n",
    "\n",
    "    if cv2.waitKey(25) & 0xff == ord(\"m\"):  # stop if 'm' pressed\n",
    "        break\n",
    "\n",
    "cap.release()\n",
    "\n",
    "# Play in reverse\n",
    "for f in reversed(frames):\n",
    "    cv2.imshow(\"rev\", f)\n",
    "    if cv2.waitKey(25) & 0xff == ord(\"q\"):\n",
    "        break\n",
    "\n",
    "cv2.destroyAllWindows()\n",
    "\n",
    "                                        #No .jpg files on disk.\n",
    "                                        #Faster.\n",
    "                                        #ses only RAM to keep frames."
   ]
  },
  {
   "cell_type": "code",
   "execution_count": null,
   "id": "02ff5f38-e72f-4878-8f58-d1545f8222d3",
   "metadata": {},
   "outputs": [],
   "source": []
  }
 ],
 "metadata": {
  "kernelspec": {
   "display_name": "Python 3 (ipykernel)",
   "language": "python",
   "name": "python3"
  },
  "language_info": {
   "codemirror_mode": {
    "name": "ipython",
    "version": 3
   },
   "file_extension": ".py",
   "mimetype": "text/x-python",
   "name": "python",
   "nbconvert_exporter": "python",
   "pygments_lexer": "ipython3",
   "version": "3.13.6"
  }
 },
 "nbformat": 4,
 "nbformat_minor": 5
}

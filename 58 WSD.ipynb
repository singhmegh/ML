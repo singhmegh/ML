{
 "cells": [
  {
   "cell_type": "code",
   "execution_count": 1,
   "id": "8c41ff6e-b2d4-4eb9-ba65-fc7056518c9c",
   "metadata": {},
   "outputs": [],
   "source": [
    "x = \"Sunrise (or sunup) is the moment when the upper rim of the Sun appears on the horizon in the morning,[1] at the start of the Sun path. The term can also refer to the entire process of the solar disk crossing the horizon.\""
   ]
  },
  {
   "cell_type": "code",
   "execution_count": 12,
   "id": "07c5b0d6-b653-4c79-bde4-65c9a2e4c4c2",
   "metadata": {},
   "outputs": [],
   "source": [
    "y = \"A mouse (pl.: mice) is a small rodent. Characteristically, mice are known to have a pointed snout, small rounded ears, a body-length scaly tail, and a high breeding rate. The best known mouse species is the common house mouse\" "
   ]
  },
  {
   "cell_type": "code",
   "execution_count": 13,
   "id": "381007c6-0567-4713-a9f0-846f891043d8",
   "metadata": {},
   "outputs": [],
   "source": [
    "from nltk.wsd import lesk\n",
    "from nltk.tokenize import word_tokenize"
   ]
  },
  {
   "cell_type": "code",
   "execution_count": 14,
   "id": "1f7bccf3-2fc9-4481-9378-dbac36e30299",
   "metadata": {},
   "outputs": [],
   "source": [
    "l = lesk(word_tokenize(y),\"mouse\")"
   ]
  },
  {
   "cell_type": "code",
   "execution_count": 15,
   "id": "d44b053a-8aca-4aaf-a044-9b53c4a69155",
   "metadata": {},
   "outputs": [
    {
     "data": {
      "text/plain": [
       "Synset('mouse.n.01')"
      ]
     },
     "execution_count": 15,
     "metadata": {},
     "output_type": "execute_result"
    }
   ],
   "source": [
    "l"
   ]
  },
  {
   "cell_type": "code",
   "execution_count": 16,
   "id": "9d1465fb-1eae-4312-94fb-711ce09f5270",
   "metadata": {},
   "outputs": [
    {
     "data": {
      "text/plain": [
       "'any of numerous small rodents typically resembling diminutive rats having pointed snouts and small ears on elongated bodies with slender usually hairless tails'"
      ]
     },
     "execution_count": 16,
     "metadata": {},
     "output_type": "execute_result"
    }
   ],
   "source": [
    "l.definition()"
   ]
  },
  {
   "cell_type": "code",
   "execution_count": null,
   "id": "15e61e54-a077-4e08-a579-d06fb54ea9cd",
   "metadata": {},
   "outputs": [],
   "source": []
  }
 ],
 "metadata": {
  "kernelspec": {
   "display_name": "Python 3.10 (tf-env)",
   "language": "python",
   "name": "tf-env"
  },
  "language_info": {
   "codemirror_mode": {
    "name": "ipython",
    "version": 3
   },
   "file_extension": ".py",
   "mimetype": "text/x-python",
   "name": "python",
   "nbconvert_exporter": "python",
   "pygments_lexer": "ipython3",
   "version": "3.10.0"
  }
 },
 "nbformat": 4,
 "nbformat_minor": 5
}

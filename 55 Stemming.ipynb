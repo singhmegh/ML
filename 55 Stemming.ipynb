{
 "cells": [
  {
   "cell_type": "code",
   "execution_count": 6,
   "id": "894405c9-1cd7-4629-beeb-08dc4aa9da86",
   "metadata": {},
   "outputs": [],
   "source": [
    "from nltk.stem import LancasterStemmer,RegexpStemmer,PorterStemmer,SnowballStemmer"
   ]
  },
  {
   "cell_type": "code",
   "execution_count": 8,
   "id": "1938a670-9d1f-451c-9391-adfa0a2ce73c",
   "metadata": {},
   "outputs": [],
   "source": [
    "l = LancasterStemmer()\n",
    "r = RegexpStemmer(\"ing\")\n",
    "p = PorterStemmer()\n",
    "s = SnowballStemmer(\"english\")"
   ]
  },
  {
   "cell_type": "code",
   "execution_count": 9,
   "id": "b5f4af5a-9986-45c3-bcaf-7ad50968f639",
   "metadata": {},
   "outputs": [
    {
     "data": {
      "text/plain": [
       "'chang'"
      ]
     },
     "execution_count": 9,
     "metadata": {},
     "output_type": "execute_result"
    }
   ],
   "source": [
    "l.stem(\"changing\")"
   ]
  },
  {
   "cell_type": "code",
   "execution_count": 10,
   "id": "13bc817a-7233-478e-a65f-6a78e4043e11",
   "metadata": {},
   "outputs": [
    {
     "data": {
      "text/plain": [
       "'chang'"
      ]
     },
     "execution_count": 10,
     "metadata": {},
     "output_type": "execute_result"
    }
   ],
   "source": [
    "r.stem(\"changing\")"
   ]
  },
  {
   "cell_type": "code",
   "execution_count": 11,
   "id": "1507b94d-6c70-45a7-9a8d-c10e17086a57",
   "metadata": {},
   "outputs": [
    {
     "data": {
      "text/plain": [
       "'chang'"
      ]
     },
     "execution_count": 11,
     "metadata": {},
     "output_type": "execute_result"
    }
   ],
   "source": [
    "p.stem(\"changing\")"
   ]
  },
  {
   "cell_type": "code",
   "execution_count": 12,
   "id": "0737082b-b02f-4602-ac9f-a48a6b46cb6c",
   "metadata": {},
   "outputs": [
    {
     "data": {
      "text/plain": [
       "'chang'"
      ]
     },
     "execution_count": 12,
     "metadata": {},
     "output_type": "execute_result"
    }
   ],
   "source": [
    "s.stem(\"changing\")"
   ]
  },
  {
   "cell_type": "code",
   "execution_count": null,
   "id": "8a0b1c82-72b5-4f32-8ab6-cdf12e272e0f",
   "metadata": {},
   "outputs": [],
   "source": []
  },
  {
   "cell_type": "code",
   "execution_count": 13,
   "id": "ebc81327-4980-4797-924e-fb19d2c2fd1b",
   "metadata": {},
   "outputs": [
    {
     "data": {
      "text/plain": [
       "'chang'"
      ]
     },
     "execution_count": 13,
     "metadata": {},
     "output_type": "execute_result"
    }
   ],
   "source": [
    "l.stem(\"changed\")"
   ]
  },
  {
   "cell_type": "code",
   "execution_count": 14,
   "id": "a34c592c-c3d1-48e8-8e5b-e137d16a2fd3",
   "metadata": {},
   "outputs": [
    {
     "data": {
      "text/plain": [
       "'changed'"
      ]
     },
     "execution_count": 14,
     "metadata": {},
     "output_type": "execute_result"
    }
   ],
   "source": [
    "r.stem(\"changed\")   #sometime it will not work        "
   ]
  },
  {
   "cell_type": "code",
   "execution_count": 15,
   "id": "c570cd85-83b8-475e-9d3a-d06e7b7f4eed",
   "metadata": {},
   "outputs": [
    {
     "data": {
      "text/plain": [
       "'chang'"
      ]
     },
     "execution_count": 15,
     "metadata": {},
     "output_type": "execute_result"
    }
   ],
   "source": [
    "p.stem(\"changed\")"
   ]
  },
  {
   "cell_type": "code",
   "execution_count": 16,
   "id": "1278ea6f-ff92-4f02-a011-dc54bff9410a",
   "metadata": {},
   "outputs": [
    {
     "data": {
      "text/plain": [
       "'chang'"
      ]
     },
     "execution_count": 16,
     "metadata": {},
     "output_type": "execute_result"
    }
   ],
   "source": [
    "s.stem(\"changed\")"
   ]
  },
  {
   "cell_type": "code",
   "execution_count": null,
   "id": "ca4354e1-0b78-45e1-a3db-b2a60df8bb69",
   "metadata": {},
   "outputs": [],
   "source": []
  },
  {
   "cell_type": "markdown",
   "id": "a6b81ff6-0719-45b3-b8e2-73bc7ac32942",
   "metadata": {},
   "source": [
    "# lemmatization"
   ]
  },
  {
   "cell_type": "code",
   "execution_count": 1,
   "id": "9014aac3-0cc9-4d4e-8406-7a5365e983b8",
   "metadata": {},
   "outputs": [],
   "source": [
    "from nltk.stem import WordNetLemmatizer"
   ]
  },
  {
   "cell_type": "code",
   "execution_count": 2,
   "id": "547bb213-c497-4ecd-ae5c-df8aaae4a0ab",
   "metadata": {},
   "outputs": [],
   "source": [
    "wl = WordNetLemmatizer()"
   ]
  },
  {
   "cell_type": "code",
   "execution_count": 3,
   "id": "bfc12f4d-d678-42c9-b24c-ab6adeaff8ac",
   "metadata": {},
   "outputs": [
    {
     "data": {
      "text/plain": [
       "'mouse'"
      ]
     },
     "execution_count": 3,
     "metadata": {},
     "output_type": "execute_result"
    }
   ],
   "source": [
    "wl.lemmatize(\"mice\")"
   ]
  },
  {
   "cell_type": "code",
   "execution_count": null,
   "id": "464ae542-8d68-4c1c-80d3-bfa745556eb3",
   "metadata": {},
   "outputs": [],
   "source": []
  }
 ],
 "metadata": {
  "kernelspec": {
   "display_name": "Python 3.10 (tf-env)",
   "language": "python",
   "name": "tf-env"
  },
  "language_info": {
   "codemirror_mode": {
    "name": "ipython",
    "version": 3
   },
   "file_extension": ".py",
   "mimetype": "text/x-python",
   "name": "python",
   "nbconvert_exporter": "python",
   "pygments_lexer": "ipython3",
   "version": "3.10.0"
  }
 },
 "nbformat": 4,
 "nbformat_minor": 5
}

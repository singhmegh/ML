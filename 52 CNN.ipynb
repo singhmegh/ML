{
 "cells": [
  {
   "cell_type": "code",
   "execution_count": 1,
   "id": "7688205e-3943-4b00-94f6-0a554bc47840",
   "metadata": {},
   "outputs": [],
   "source": [
    "import tensorflow"
   ]
  },
  {
   "cell_type": "code",
   "execution_count": 11,
   "id": "88c5b590-b37e-4567-a6b1-aa3305ad9b1b",
   "metadata": {},
   "outputs": [],
   "source": [
    "from keras.layers import Dense,Conv2D,MaxPooling2D,Flatten\n",
    "from keras.models import Sequential\n",
    "from tensorflow.keras.preprocessing.image import ImageDataGenerator"
   ]
  },
  {
   "cell_type": "code",
   "execution_count": 5,
   "id": "b2fee8de-f0de-4e88-a651-b4e779262e62",
   "metadata": {},
   "outputs": [],
   "source": [
    "cnn = Sequential()"
   ]
  },
  {
   "cell_type": "markdown",
   "id": "7c957ebd-9a26-4ce0-9bbb-0eb04e7746a3",
   "metadata": {},
   "source": [
    "# make CNN network"
   ]
  },
  {
   "cell_type": "code",
   "execution_count": 6,
   "id": "f6368b42-3657-413e-9f26-959bf2636fb6",
   "metadata": {},
   "outputs": [
    {
     "name": "stderr",
     "output_type": "stream",
     "text": [
      "C:\\Users\\sumit\\tf-env\\lib\\site-packages\\keras\\src\\layers\\convolutional\\base_conv.py:113: UserWarning: Do not pass an `input_shape`/`input_dim` argument to a layer. When using Sequential models, prefer using an `Input(shape)` object as the first layer in the model instead.\n",
      "  super().__init__(activity_regularizer=activity_regularizer, **kwargs)\n"
     ]
    }
   ],
   "source": [
    "cnn.add(Conv2D(32,(3,3),input_shape =(64,64,3),activation = \"relu\"))\n",
    "cnn.add(MaxPooling2D(pool_size=(2,2)))\n",
    "cnn.add(Conv2D(16,(3,3),activation = \"relu\"))\n",
    "cnn.add(MaxPooling2D(pool_size=(2,2)))\n",
    "cnn.add(Flatten())"
   ]
  },
  {
   "cell_type": "markdown",
   "id": "43bc2b85-0113-4a0e-861d-db66a51be229",
   "metadata": {},
   "source": [
    "# make ANN layer"
   ]
  },
  {
   "cell_type": "code",
   "execution_count": 8,
   "id": "347c5099-3824-4ab7-a482-bf6ad3984211",
   "metadata": {},
   "outputs": [],
   "source": [
    "cnn.add(Dense(64,activation=\"relu\"))\n",
    "cnn.add(Dense(32,activation=\"relu\"))\n",
    "cnn.add(Dense(16,activation=\"relu\"))\n",
    "cnn.add(Dense(8,activation=\"relu\"))\n",
    "cnn.add(Dense(4,activation=\"relu\"))\n",
    "cnn.add(Dense(1,activation=\"sigmoid\"))"
   ]
  },
  {
   "cell_type": "markdown",
   "id": "e65fa894-d754-4232-8dc5-9e164e5dbd24",
   "metadata": {},
   "source": [
    "# Compile the code"
   ]
  },
  {
   "cell_type": "code",
   "execution_count": 9,
   "id": "66c2ebeb-f948-44d2-b610-33228f932b9b",
   "metadata": {},
   "outputs": [],
   "source": [
    "cnn.compile(loss=\"binary_crossentropy\",optimizer = \"adam\")"
   ]
  },
  {
   "cell_type": "markdown",
   "id": "1966a6b1-f2f0-400a-8912-ec6752180634",
   "metadata": {},
   "source": [
    "# Test on dummy/Placeholder data "
   ]
  },
  {
   "cell_type": "code",
   "execution_count": 15,
   "id": "642ab517-ffe7-4481-845d-e247f64fc1d3",
   "metadata": {},
   "outputs": [
    {
     "name": "stdout",
     "output_type": "stream",
     "text": [
      "Found 80 images belonging to 2 classes.\n",
      "Found 20 images belonging to 2 classes.\n"
     ]
    }
   ],
   "source": [
    "train_datagen = ImageDataGenerator(\n",
    "        rescale=1./255,\n",
    "        shear_range=0.2,\n",
    "        zoom_range=0.2,\n",
    "        horizontal_flip=True)\n",
    "\n",
    "test_datagen = ImageDataGenerator(rescale=1./255)\n",
    "\n",
    "train_generator = train_datagen.flow_from_directory(\n",
    "        r\"C:\\Users\\sumit\\Downloads\\train_dataset\",\n",
    "        target_size=(64,64),\n",
    "        batch_size=32,\n",
    "        class_mode='binary')\n",
    "\n",
    "test_generator = test_datagen.flow_from_directory(\n",
    "        r\"C:\\Users\\sumit\\Downloads\\validation_dataset\",\n",
    "        target_size=(64,64),\n",
    "        batch_size=32,\n",
    "        class_mode='binary')\n",
    "\n",
    "#cnn.fit(train_generator,steps_per_epoch=20, epochs=5,validation_data=test_generator)"
   ]
  },
  {
   "cell_type": "code",
   "execution_count": null,
   "id": "c44bd4f4-e8dc-4deb-8b89-0460bd237a9f",
   "metadata": {},
   "outputs": [],
   "source": [
    "# "
   ]
  },
  {
   "cell_type": "code",
   "execution_count": 26,
   "id": "eb977c4e-46dc-455c-9a64-90c86acf4f94",
   "metadata": {},
   "outputs": [],
   "source": [
    "from keras.preprocessing import image\n",
    "import numpy as np"
   ]
  },
  {
   "cell_type": "code",
   "execution_count": 27,
   "id": "8603e058-f877-40b9-ba87-3044c6f2276d",
   "metadata": {},
   "outputs": [],
   "source": [
    "#img = image.load_img(\"\\path\",target_size=(64,64))"
   ]
  },
  {
   "cell_type": "code",
   "execution_count": 28,
   "id": "d1b56af1-9e20-473e-976f-55ef4661b9f4",
   "metadata": {},
   "outputs": [],
   "source": [
    "#img = img.to_array(img)"
   ]
  },
  {
   "cell_type": "code",
   "execution_count": null,
   "id": "0c890de1-2a2f-419a-82b6-5fe1d6a46e24",
   "metadata": {},
   "outputs": [],
   "source": []
  },
  {
   "cell_type": "code",
   "execution_count": 29,
   "id": "acce36fb-6481-4ac9-8f63-8f625551d5c6",
   "metadata": {},
   "outputs": [],
   "source": [
    "#img = np.expand_dims(img,axis=0)"
   ]
  },
  {
   "cell_type": "code",
   "execution_count": 30,
   "id": "03bf6534-9cab-4f30-9fe6-07dbab69f135",
   "metadata": {},
   "outputs": [],
   "source": [
    "#p = cnn.predict(img)"
   ]
  },
  {
   "cell_type": "code",
   "execution_count": 32,
   "id": "9355df04-7890-4c98-afdc-1f16b73e16e7",
   "metadata": {},
   "outputs": [],
   "source": [
    "#if p[0][0] < 0.5 :\n",
    "    #print(\"Dog\")\n",
    "#else :\n",
    "    #print(\"Cat\")"
   ]
  },
  {
   "cell_type": "code",
   "execution_count": null,
   "id": "fa245af7-85d6-482b-aca1-246b3058f6d0",
   "metadata": {},
   "outputs": [],
   "source": []
  }
 ],
 "metadata": {
  "kernelspec": {
   "display_name": "Python 3.10 (tf-env)",
   "language": "python",
   "name": "tf-env"
  },
  "language_info": {
   "codemirror_mode": {
    "name": "ipython",
    "version": 3
   },
   "file_extension": ".py",
   "mimetype": "text/x-python",
   "name": "python",
   "nbconvert_exporter": "python",
   "pygments_lexer": "ipython3",
   "version": "3.10.0"
  }
 },
 "nbformat": 4,
 "nbformat_minor": 5
}

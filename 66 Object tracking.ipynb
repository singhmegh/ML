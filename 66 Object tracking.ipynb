{
 "cells": [
  {
   "cell_type": "markdown",
   "id": "03425f78-f3b3-4c5e-82af-381b07726c88",
   "metadata": {},
   "source": [
    "# Object Tracking & detection"
   ]
  },
  {
   "cell_type": "code",
   "execution_count": 1,
   "id": "72cce523-538c-4d63-9606-4827d3f8d5fa",
   "metadata": {},
   "outputs": [],
   "source": [
    "import cv2\n",
    "import numpy as np"
   ]
  },
  {
   "cell_type": "code",
   "execution_count": 6,
   "id": "48a77eb2-79ad-4fa9-906d-a5b8fb267c77",
   "metadata": {},
   "outputs": [],
   "source": [
    "cap = cv2.VideoCapture(\"D:/c data/cvimg/mixkit-man-and-woman-jogging-together-on-the-street-40881-hd-ready.mp4\")\n",
    "\n",
    "while cap.isOpened():\n",
    "    r,f = cap.read()\n",
    "    if r == True:\n",
    "        cv2.imshow(\"org\",f)\n",
    "        if cv2.waitKey(25) & 0xff == ord(\"p\"):\n",
    "            break\n",
    "    else:\n",
    "        break\n",
    "cap.release()\n",
    "cv2.destroyAllWindows()"
   ]
  },
  {
   "cell_type": "code",
   "execution_count": null,
   "id": "ec8c1913-0fd0-4c0a-980d-6faca14244bb",
   "metadata": {},
   "outputs": [],
   "source": []
  }
 ],
 "metadata": {
  "kernelspec": {
   "display_name": "Python 3 (ipykernel)",
   "language": "python",
   "name": "python3"
  },
  "language_info": {
   "codemirror_mode": {
    "name": "ipython",
    "version": 3
   },
   "file_extension": ".py",
   "mimetype": "text/x-python",
   "name": "python",
   "nbconvert_exporter": "python",
   "pygments_lexer": "ipython3",
   "version": "3.13.6"
  }
 },
 "nbformat": 4,
 "nbformat_minor": 5
}

{
 "cells": [
  {
   "cell_type": "code",
   "execution_count": 5,
   "id": "2cb3df44-ce8a-4e9f-9f18-9f7f0ace6fd9",
   "metadata": {},
   "outputs": [],
   "source": [
    "var = \"Natural language processing (NLP) is the processing of natural language information by a computer. The study of NLP, a subfield of computer science, is generally associated with artificial intelligence. NLP is related to information retrieval, knowledge representation, computational linguistics, and more broadly with linguistics\""
   ]
  },
  {
   "cell_type": "code",
   "execution_count": 6,
   "id": "e766f5ba-27ab-4f69-ad29-deb91c427aea",
   "metadata": {},
   "outputs": [
    {
     "data": {
      "text/plain": [
       "'Natural language processing (NLP) is the processing of natural language information by a computer. The study of NLP, a subfield of computer science, is generally associated with artificial intelligence. NLP is related to information retrieval, knowledge representation, computational linguistics, and more broadly with linguistics'"
      ]
     },
     "execution_count": 6,
     "metadata": {},
     "output_type": "execute_result"
    }
   ],
   "source": [
    "var"
   ]
  },
  {
   "cell_type": "code",
   "execution_count": 16,
   "id": "a076b767-c313-4f92-aabc-833365a0f717",
   "metadata": {},
   "outputs": [],
   "source": [
    "from nltk.tokenize import word_tokenize"
   ]
  },
  {
   "cell_type": "code",
   "execution_count": 17,
   "id": "63983a61-da75-4562-ab94-0e464185f3e8",
   "metadata": {},
   "outputs": [],
   "source": [
    "var_new = word_tokenize(var)"
   ]
  },
  {
   "cell_type": "code",
   "execution_count": null,
   "id": "92df4d99-436c-4569-8687-0f5cdd250926",
   "metadata": {},
   "outputs": [],
   "source": []
  },
  {
   "cell_type": "code",
   "execution_count": 10,
   "id": "89aeb190-f647-41b7-a56b-88bae7658bb6",
   "metadata": {},
   "outputs": [],
   "source": [
    "from nltk.corpus import stopwords\n",
    "from string import punctuation"
   ]
  },
  {
   "cell_type": "code",
   "execution_count": 11,
   "id": "b726b5fb-9c37-4846-a092-c1ed6e0645bb",
   "metadata": {},
   "outputs": [],
   "source": [
    "stop = stopwords.words(\"english\")"
   ]
  },
  {
   "cell_type": "code",
   "execution_count": 14,
   "id": "d7132631-d489-4a97-a981-95ae9d5aaa12",
   "metadata": {},
   "outputs": [],
   "source": [
    "stop_word_list = list(punctuation)+stop"
   ]
  },
  {
   "cell_type": "code",
   "execution_count": 19,
   "id": "bdf35423-53fc-43ec-b792-e4d50c7f3240",
   "metadata": {},
   "outputs": [
    {
     "name": "stdout",
     "output_type": "stream",
     "text": [
      "Natural\n",
      "language\n",
      "processing\n",
      "NLP\n",
      "processing\n",
      "natural\n",
      "language\n",
      "information\n",
      "computer\n",
      "The\n",
      "study\n",
      "NLP\n",
      "subfield\n",
      "computer\n",
      "science\n",
      "generally\n",
      "associated\n",
      "artificial\n",
      "intelligence\n",
      "NLP\n",
      "related\n",
      "information\n",
      "retrieval\n",
      "knowledge\n",
      "representation\n",
      "computational\n",
      "linguistics\n",
      "broadly\n",
      "linguistics\n"
     ]
    }
   ],
   "source": [
    "for i in var_new:\n",
    "    if i not in stop_word_list:\n",
    "        print(i)"
   ]
  },
  {
   "cell_type": "code",
   "execution_count": null,
   "id": "ddd9d2aa-b7a9-427b-98a6-34f414a958f7",
   "metadata": {},
   "outputs": [],
   "source": []
  },
  {
   "cell_type": "code",
   "execution_count": null,
   "id": "f4a1bed2-0229-4133-8d9e-4ee8c1359af3",
   "metadata": {},
   "outputs": [],
   "source": []
  },
  {
   "cell_type": "code",
   "execution_count": null,
   "id": "c1b72e5a-2951-4f13-adb2-43879e0c7d66",
   "metadata": {},
   "outputs": [],
   "source": []
  }
 ],
 "metadata": {
  "kernelspec": {
   "display_name": "Python 3.10 (tf-env)",
   "language": "python",
   "name": "tf-env"
  },
  "language_info": {
   "codemirror_mode": {
    "name": "ipython",
    "version": 3
   },
   "file_extension": ".py",
   "mimetype": "text/x-python",
   "name": "python",
   "nbconvert_exporter": "python",
   "pygments_lexer": "ipython3",
   "version": "3.10.0"
  }
 },
 "nbformat": 4,
 "nbformat_minor": 5
}

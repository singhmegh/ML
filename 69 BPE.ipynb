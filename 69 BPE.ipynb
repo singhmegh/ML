{
 "cells": [
  {
   "cell_type": "code",
   "execution_count": 1,
   "id": "d96a9a1e-d210-4651-b2fa-c82544c3c326",
   "metadata": {},
   "outputs": [
    {
     "name": "stdout",
     "output_type": "stream",
     "text": [
      "Requirement already satisfied: tiktoken in c:\\users\\sumit\\appdata\\local\\programs\\python\\python313\\lib\\site-packages (0.12.0)\n",
      "Requirement already satisfied: regex>=2022.1.18 in c:\\users\\sumit\\appdata\\local\\programs\\python\\python313\\lib\\site-packages (from tiktoken) (2025.9.18)\n",
      "Requirement already satisfied: requests>=2.26.0 in c:\\users\\sumit\\appdata\\local\\programs\\python\\python313\\lib\\site-packages (from tiktoken) (2.32.3)\n",
      "Requirement already satisfied: charset-normalizer<4,>=2 in c:\\users\\sumit\\appdata\\local\\programs\\python\\python313\\lib\\site-packages (from requests>=2.26.0->tiktoken) (3.4.1)\n",
      "Requirement already satisfied: idna<4,>=2.5 in c:\\users\\sumit\\appdata\\local\\programs\\python\\python313\\lib\\site-packages (from requests>=2.26.0->tiktoken) (3.10)\n",
      "Requirement already satisfied: urllib3<3,>=1.21.1 in c:\\users\\sumit\\appdata\\local\\programs\\python\\python313\\lib\\site-packages (from requests>=2.26.0->tiktoken) (2.3.0)\n",
      "Requirement already satisfied: certifi>=2017.4.17 in c:\\users\\sumit\\appdata\\local\\programs\\python\\python313\\lib\\site-packages (from requests>=2.26.0->tiktoken) (2025.1.31)\n"
     ]
    }
   ],
   "source": [
    "! pip3 install tiktoken"
   ]
  },
  {
   "cell_type": "code",
   "execution_count": 2,
   "id": "85c47179-c419-40ec-a75f-d77a301a8ad8",
   "metadata": {},
   "outputs": [
    {
     "name": "stdout",
     "output_type": "stream",
     "text": [
      "tiktoken version: 0.12.0\n"
     ]
    }
   ],
   "source": [
    "import importlib\n",
    "import tiktoken\n",
    "\n",
    "print(\"tiktoken version:\",importlib.metadata.version(\"tiktoken\"))"
   ]
  },
  {
   "cell_type": "code",
   "execution_count": 3,
   "id": "20b2eec8-c804-421b-aedc-5837aadad53b",
   "metadata": {},
   "outputs": [],
   "source": [
    "tokenizer = tiktoken.get_encoding(\"gpt2\")"
   ]
  },
  {
   "cell_type": "code",
   "execution_count": null,
   "id": "79b7c6bb-f66a-40ae-a9db-b886412880fb",
   "metadata": {},
   "outputs": [],
   "source": [
    "# \"gpt2\" means: use the same tokenization rules and vocabulary that were used to train the GPT-2 model."
   ]
  },
  {
   "cell_type": "code",
   "execution_count": 5,
   "id": "bc2ad595-a6d8-426b-8377-d1c0a3dbe403",
   "metadata": {},
   "outputs": [],
   "source": [
    "# \"gpt2\" encoding includes:\n",
    "#  A vocabulary of 50,000 tokens.\n",
    "#  Special byte pair encoding (BPE) rules for how to split text into subword tokens.\n",
    "#  Mappings from text pieces → integer IDs and back."
   ]
  },
  {
   "cell_type": "markdown",
   "id": "0f31522b-fe0d-4402-9be6-f7c5db512585",
   "metadata": {},
   "source": [
    "### The usage of this tokenizer is similar to SimpleTokenizerV2"
   ]
  },
  {
   "cell_type": "code",
   "execution_count": 6,
   "id": "cfc7a239-1326-4dec-92c8-6b417237ff43",
   "metadata": {},
   "outputs": [
    {
     "name": "stdout",
     "output_type": "stream",
     "text": [
      "[15496, 11, 4598, 345, 588, 8887, 30, 220, 50256, 554, 262, 4252, 18250, 8812, 2114, 1659, 617, 34680, 27271, 13]\n"
     ]
    }
   ],
   "source": [
    "text = (\n",
    "    \"Hello,do you like tea? <|endoftext|> In the sunlit terraces\"\n",
    "    \"of someunknownPlace.\"\n",
    ")\n",
    "integer = tokenizer.encode(text,allowed_special = {\"<|endoftext|>\"})\n",
    "\n",
    "print(integer)"
   ]
  },
  {
   "cell_type": "markdown",
   "id": "a68c683f-076a-4bac-ab01-8a45b3607878",
   "metadata": {},
   "source": [
    "### Decode"
   ]
  },
  {
   "cell_type": "code",
   "execution_count": 7,
   "id": "c346de88-ff8f-4afe-a7a0-3943ae52649e",
   "metadata": {},
   "outputs": [
    {
     "name": "stdout",
     "output_type": "stream",
     "text": [
      "Hello,do you like tea? <|endoftext|> In the sunlit terracesof someunknownPlace.\n"
     ]
    }
   ],
   "source": [
    "strings = tokenizer.decode(integer)\n",
    "\n",
    "print(strings)"
   ]
  },
  {
   "cell_type": "code",
   "execution_count": null,
   "id": "5909a159-8604-4933-8518-fbeb1b44652c",
   "metadata": {},
   "outputs": [],
   "source": [
    "# The BPE Tokenizer ,which is used to train the models like GPT-2,GPT-3 and the orginal model used in ChatGPT with <|endoftext|> being assigned the largest token ID.\n",
    "\n",
    "# The BPE can handle unknown word without <|unk|> tokens. How?\n",
    "\n",
    "# The algo underlying BPE breakdown words that aren't in its predefined vocabulary into smaller subwords units or even individuals characters.\n",
    "# This enables it to handle Out-ofVocabulary (OOV) words.\n",
    "# Because of BPE algo, if the tokenizer encounters an unfamiliar word during tokenization,it can represents it as sequence of subword tokens or characters"
   ]
  },
  {
   "cell_type": "markdown",
   "id": "b2145000-0738-47d4-9029-d79e742d742c",
   "metadata": {},
   "source": [
    "# Another example "
   ]
  },
  {
   "cell_type": "code",
   "execution_count": 11,
   "id": "a719df45-df5c-4c8c-9d55-b5e572951995",
   "metadata": {},
   "outputs": [
    {
     "name": "stdout",
     "output_type": "stream",
     "text": [
      "[10206, 86, 343, 86, 220, 959, 474, 71]\n",
      "AKwirw ier jh\n"
     ]
    }
   ],
   "source": [
    "integer = tokenizer.encode(\"AKwirw ier jh\")\n",
    "print(integer)\n",
    "\n",
    "strings = tokenizer.decode(integer)\n",
    "print(strings)"
   ]
  },
  {
   "cell_type": "code",
   "execution_count": null,
   "id": "4e1f9d7d-29c3-4c9b-8e8d-9f2d15c967f1",
   "metadata": {},
   "outputs": [],
   "source": []
  }
 ],
 "metadata": {
  "kernelspec": {
   "display_name": "Python 3 (ipykernel)",
   "language": "python",
   "name": "python3"
  },
  "language_info": {
   "codemirror_mode": {
    "name": "ipython",
    "version": 3
   },
   "file_extension": ".py",
   "mimetype": "text/x-python",
   "name": "python",
   "nbconvert_exporter": "python",
   "pygments_lexer": "ipython3",
   "version": "3.13.6"
  }
 },
 "nbformat": 4,
 "nbformat_minor": 5
}

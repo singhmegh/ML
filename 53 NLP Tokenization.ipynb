{
 "cells": [
  {
   "cell_type": "code",
   "execution_count": 6,
   "id": "40ac8094-32f7-4641-96a9-5dd0637c722a",
   "metadata": {},
   "outputs": [],
   "source": [
    "var = \"Natural language processing (NLP) is the processing of natural language information by a computer. The study of NLP, a subfield of computer science, is generally associated with artificial intelligence. NLP is related to information retrieval, knowledge representation, computational linguistics, and more broadly with linguistics\""
   ]
  },
  {
   "cell_type": "code",
   "execution_count": 7,
   "id": "0e62481e-f590-4e7c-9435-7319693513f2",
   "metadata": {},
   "outputs": [
    {
     "data": {
      "text/plain": [
       "'Natural language processing (NLP) is the processing of natural language information by a computer. The study of NLP, a subfield of computer science, is generally associated with artificial intelligence. NLP is related to information retrieval, knowledge representation, computational linguistics, and more broadly with linguistics'"
      ]
     },
     "execution_count": 7,
     "metadata": {},
     "output_type": "execute_result"
    }
   ],
   "source": [
    "var"
   ]
  },
  {
   "cell_type": "code",
   "execution_count": 8,
   "id": "206b2165-cf06-4545-822a-75a0d2bc08ad",
   "metadata": {},
   "outputs": [],
   "source": [
    "from nltk.tokenize import word_tokenize,sent_tokenize"
   ]
  },
  {
   "cell_type": "markdown",
   "id": "98365436-6313-447e-94f2-7d4efdd29143",
   "metadata": {},
   "source": [
    "# Sentence tokenization"
   ]
  },
  {
   "cell_type": "code",
   "execution_count": 9,
   "id": "1ce16eb4-d599-4e18-a56b-8fde6c624938",
   "metadata": {},
   "outputs": [],
   "source": [
    "sent = sent_tokenize(var)"
   ]
  },
  {
   "cell_type": "code",
   "execution_count": 10,
   "id": "84476ec4-5a6b-4520-bba5-f49095a4f0da",
   "metadata": {},
   "outputs": [
    {
     "data": {
      "text/plain": [
       "['Natural language processing (NLP) is the processing of natural language information by a computer.',\n",
       " 'The study of NLP, a subfield of computer science, is generally associated with artificial intelligence.',\n",
       " 'NLP is related to information retrieval, knowledge representation, computational linguistics, and more broadly with linguistics']"
      ]
     },
     "execution_count": 10,
     "metadata": {},
     "output_type": "execute_result"
    }
   ],
   "source": [
    "sent"
   ]
  },
  {
   "cell_type": "code",
   "execution_count": 11,
   "id": "3f69141b-b0e9-4bd9-8a51-9f61109c4def",
   "metadata": {},
   "outputs": [
    {
     "name": "stdout",
     "output_type": "stream",
     "text": [
      "Natural language processing (NLP) is the processing of natural language information by a computer.\n",
      "\n",
      "The study of NLP, a subfield of computer science, is generally associated with artificial intelligence.\n",
      "\n",
      "NLP is related to information retrieval, knowledge representation, computational linguistics, and more broadly with linguistics\n",
      "\n"
     ]
    }
   ],
   "source": [
    "for i in sent:\n",
    "    print(i)\n",
    "    print()"
   ]
  },
  {
   "cell_type": "code",
   "execution_count": null,
   "id": "9e28d0e4-5017-4bb3-96d7-78ccdd6c33d6",
   "metadata": {},
   "outputs": [],
   "source": []
  },
  {
   "cell_type": "markdown",
   "id": "4cf8199c-b516-446c-bc01-db7574e5a5ea",
   "metadata": {},
   "source": [
    "# word tokenize"
   ]
  },
  {
   "cell_type": "code",
   "execution_count": 12,
   "id": "b85824e8-4a19-4945-a456-6b0c75519341",
   "metadata": {},
   "outputs": [],
   "source": [
    "word = word_tokenize(var)"
   ]
  },
  {
   "cell_type": "code",
   "execution_count": 13,
   "id": "9dde28cf-9295-4340-af38-4a7ff4908b6b",
   "metadata": {},
   "outputs": [
    {
     "data": {
      "text/plain": [
       "['Natural',\n",
       " 'language',\n",
       " 'processing',\n",
       " '(',\n",
       " 'NLP',\n",
       " ')',\n",
       " 'is',\n",
       " 'the',\n",
       " 'processing',\n",
       " 'of',\n",
       " 'natural',\n",
       " 'language',\n",
       " 'information',\n",
       " 'by',\n",
       " 'a',\n",
       " 'computer',\n",
       " '.',\n",
       " 'The',\n",
       " 'study',\n",
       " 'of',\n",
       " 'NLP',\n",
       " ',',\n",
       " 'a',\n",
       " 'subfield',\n",
       " 'of',\n",
       " 'computer',\n",
       " 'science',\n",
       " ',',\n",
       " 'is',\n",
       " 'generally',\n",
       " 'associated',\n",
       " 'with',\n",
       " 'artificial',\n",
       " 'intelligence',\n",
       " '.',\n",
       " 'NLP',\n",
       " 'is',\n",
       " 'related',\n",
       " 'to',\n",
       " 'information',\n",
       " 'retrieval',\n",
       " ',',\n",
       " 'knowledge',\n",
       " 'representation',\n",
       " ',',\n",
       " 'computational',\n",
       " 'linguistics',\n",
       " ',',\n",
       " 'and',\n",
       " 'more',\n",
       " 'broadly',\n",
       " 'with',\n",
       " 'linguistics']"
      ]
     },
     "execution_count": 13,
     "metadata": {},
     "output_type": "execute_result"
    }
   ],
   "source": [
    "word"
   ]
  },
  {
   "cell_type": "code",
   "execution_count": null,
   "id": "6abf21d5-54e1-4129-8128-e71b2de2572f",
   "metadata": {},
   "outputs": [],
   "source": []
  },
  {
   "cell_type": "code",
   "execution_count": null,
   "id": "9d1cdceb-643d-4be9-98c3-6022df64f4f8",
   "metadata": {},
   "outputs": [],
   "source": []
  },
  {
   "cell_type": "code",
   "execution_count": null,
   "id": "0fdf668b-4bbe-4781-bc8c-1e6c9dd8dc6e",
   "metadata": {},
   "outputs": [],
   "source": []
  },
  {
   "cell_type": "code",
   "execution_count": null,
   "id": "51979242-98ef-4e9a-a182-7c97fb646c36",
   "metadata": {},
   "outputs": [],
   "source": []
  },
  {
   "cell_type": "code",
   "execution_count": 5,
   "id": "7477294f-5a92-494c-8970-585751144fec",
   "metadata": {},
   "outputs": [
    {
     "name": "stderr",
     "output_type": "stream",
     "text": [
      "[nltk_data] Downloading package punkt to C:\\Users\\sumit/nltk_data...\n",
      "[nltk_data]   Package punkt is already up-to-date!\n",
      "[nltk_data] Downloading package punkt_tab to\n",
      "[nltk_data]     C:\\Users\\sumit/nltk_data...\n",
      "[nltk_data]   Unzipping tokenizers\\punkt_tab.zip.\n"
     ]
    },
    {
     "data": {
      "text/plain": [
       "True"
      ]
     },
     "execution_count": 5,
     "metadata": {},
     "output_type": "execute_result"
    }
   ],
   "source": [
    "import nltk\n",
    "nltk.download('punkt')\n",
    "nltk.download('punkt_tab')\n"
   ]
  },
  {
   "cell_type": "code",
   "execution_count": null,
   "id": "57df81e2-1060-4bdc-b47e-749c06ce6e38",
   "metadata": {},
   "outputs": [],
   "source": []
  }
 ],
 "metadata": {
  "kernelspec": {
   "display_name": "Python 3.10 (tf-env)",
   "language": "python",
   "name": "tf-env"
  },
  "language_info": {
   "codemirror_mode": {
    "name": "ipython",
    "version": 3
   },
   "file_extension": ".py",
   "mimetype": "text/x-python",
   "name": "python",
   "nbconvert_exporter": "python",
   "pygments_lexer": "ipython3",
   "version": "3.10.0"
  }
 },
 "nbformat": 4,
 "nbformat_minor": 5
}

{
 "cells": [
  {
   "cell_type": "code",
   "execution_count": 1,
   "id": "97eca09b-4347-4728-a000-a71a20068e11",
   "metadata": {},
   "outputs": [],
   "source": [
    "import cv2\n",
    "import numpy as np"
   ]
  },
  {
   "cell_type": "code",
   "execution_count": 2,
   "id": "b14b2b9b-f236-411f-a428-3487696404c8",
   "metadata": {},
   "outputs": [],
   "source": [
    "def picker(x):\n",
    "    pass"
   ]
  },
  {
   "cell_type": "code",
   "execution_count": 3,
   "id": "a904e4dd-a3e2-41a1-9b50-f9a596c737cf",
   "metadata": {},
   "outputs": [],
   "source": [
    "img = np.zeros((500,500,3),np.uint8)*255\n",
    "cv2.namedWindow(\"color\")\n",
    "\n",
    "cv2.createTrackbar(\"R\",\"color\",0,255,picker)\n",
    "cv2.createTrackbar(\"G\",\"color\",0,255,picker)\n",
    "cv2.createTrackbar(\"B\",\"color\",0,255,picker)\n",
    "\n",
    "while True:\n",
    "    cv2.imshow(\"Color\",img)\n",
    "    if cv2.waitKey(1) & 0xff == ord(\"p\"):\n",
    "        break\n",
    "    r = cv2.getTrackbarPos(\"R\",\"color\")\n",
    "    g = cv2.getTrackbarPos(\"G\",\"color\")\n",
    "    b = cv2.getTrackbarPos(\"B\",\"color\")\n",
    "\n",
    "    img[:] = [b,g,r]\n",
    "    \n",
    "cv2.destroyAllWindows()"
   ]
  },
  {
   "cell_type": "code",
   "execution_count": null,
   "id": "b2078896-8715-42ce-b926-7b5956191a2b",
   "metadata": {},
   "outputs": [],
   "source": []
  },
  {
   "cell_type": "markdown",
   "id": "3a302a3b-d77c-465d-a61d-544f1dce7f5d",
   "metadata": {},
   "source": [
    "# getTrackbarPos()"
   ]
  },
  {
   "cell_type": "code",
   "execution_count": 4,
   "id": "123851e7-1c0b-4086-a3e9-8c1b5628a4ba",
   "metadata": {},
   "outputs": [],
   "source": [
    "def colour(x):\n",
    "    pass"
   ]
  },
  {
   "cell_type": "code",
   "execution_count": 5,
   "id": "35af6272-c6d7-48fa-ac6d-c87af9ee67dd",
   "metadata": {},
   "outputs": [],
   "source": [
    "img = np.zeros((500,500,3),np.uint8)*255\n",
    "cv2.namedWindow(\"bar\")\n",
    "\n",
    "cv2.createTrackbar(\"on\",\"bar\",0,100,colour)\n",
    "while True:\n",
    "    cv2.imshow(\"bar\",img)\n",
    "    if cv2.waitKey(1) & 0xff == ord(\"p\"):\n",
    "         break\n",
    "    var = cv2.getTrackbarPos(\"on\",\"bar\")\n",
    "    img[:] = [0,var,0]\n",
    "cv2.destroyAllWindows()\n",
    "\n",
    "\n",
    "cv2.imshow(\"black_blank\",img)\n",
    "cv2.waitKey(0)\n",
    "cv2.destroyAllWindows()"
   ]
  },
  {
   "cell_type": "code",
   "execution_count": null,
   "id": "b668633b-fdc3-4085-91bf-260479392efd",
   "metadata": {},
   "outputs": [],
   "source": []
  },
  {
   "cell_type": "markdown",
   "id": "d051ef9e-61ce-473b-9887-86593f36c42a",
   "metadata": {},
   "source": [
    "# Region of interest / Making clon of image"
   ]
  },
  {
   "cell_type": "code",
   "execution_count": 7,
   "id": "84c547ba-dbbf-4339-a76e-2e3409b1cd17",
   "metadata": {},
   "outputs": [],
   "source": [
    "img = cv2.imread(\"C:/Users/sumit/OneDrive/Desktop/cvimg/img1.png\")\n",
    "#img = cv2.resize(img,(400,500))\n",
    "\n",
    "crop = img[15:210,120:300]\n",
    "#img[15:210,120:300]=crop\n",
    "\n",
    "cv2.imwrite(\"C:/Users/sumit/OneDrive/Desktop/cvimg/save.jpg\",img)\n",
    "cv2.imshow(\"clon\",img)\n",
    "cv2.waitKey(0)\n",
    "cv2.destroyAllWindows()"
   ]
  },
  {
   "cell_type": "code",
   "execution_count": null,
   "id": "a34559e9-dae3-41bd-b97f-92c7870d8d5b",
   "metadata": {},
   "outputs": [],
   "source": []
  },
  {
   "cell_type": "markdown",
   "id": "9ad84bbd-2a0b-4330-96b8-8b105c22740e",
   "metadata": {},
   "source": [
    "# Flip,rotate,transpose"
   ]
  },
  {
   "cell_type": "code",
   "execution_count": 21,
   "id": "8fac9895-2174-48b6-a0b2-2547e96d1224",
   "metadata": {},
   "outputs": [],
   "source": [
    "img = cv2.imread(\"C:/Users/sumit/OneDrive/Desktop/cvimg/img1.png\")\n",
    "img = cv2.resize(img,(400,400))\n",
    "\n",
    "#img = cv2.flip(img,1)     # y axis\n",
    "#img = cv2.flip(img,0)    # x axis\n",
    "#img = cv2.flip(img,-1)   # x,y axis\n",
    "\n",
    "\n",
    "#img = cv2.rotate(img,cv2.ROTATE_180)\n",
    "#img = cv2.rotate(img,cv2.ROTATE_90_CLOCKWISE)\n",
    "#img = cv2.rotate(img,cv2.ROTATE_90_COUNTERCLOCKWISE)\n",
    "\n",
    "\n",
    "img = cv2.transpose(img)\n",
    "\n",
    "\n",
    "cv2.imshow(\"flip\",img)\n",
    "cv2.waitKey(0)\n",
    "cv2.destroyAllWindows()"
   ]
  },
  {
   "cell_type": "code",
   "execution_count": null,
   "id": "006c1a4f-990d-4d89-aa61-8a6d48641577",
   "metadata": {},
   "outputs": [],
   "source": []
  },
  {
   "cell_type": "markdown",
   "id": "0f1adbf0-cca8-49a5-8b9b-4f2cb6771858",
   "metadata": {},
   "source": [
    "# saving a vedio"
   ]
  },
  {
   "cell_type": "code",
   "execution_count": 32,
   "id": "ec0c4439-b6d1-4263-bb79-e85c0d8134a0",
   "metadata": {},
   "outputs": [],
   "source": [
    "cap = cv2.VideoCapture(0, cv2.CAP_DSHOW) \n",
    "\n",
    "f = cv2.VideoWriter_fourcc(*\"XVID\")\n",
    "out = cv2.VideoWriter(\"demo.mp4\",f,40.0,(640,480))\n",
    "out = cv2.VideoWriter(\"demo.mp4\",f,40.0,(640,480),0)     # for grey color\n",
    "\n",
    "while True:\n",
    "    ret, frame = cap.read()\n",
    "    if not ret:\n",
    "        print(\"Failed to grab frame\")\n",
    "        break\n",
    "    frame = cv2.cvtColor(frame,cv2.COLOR_BGR2GRAY)\n",
    "    frame = cv2.flip(frame,1)\n",
    "    out.write(frame)\n",
    "    cv2.imshow(\"Webcam\", frame)\n",
    "\n",
    "    if cv2.waitKey(1) & 0xFF == ord('q'):\n",
    "        break\n",
    "\n",
    "cap.release()\n",
    "out.release()\n",
    "cv2.destroyAllWindows()\n"
   ]
  },
  {
   "cell_type": "code",
   "execution_count": null,
   "id": "f4ea30c5-286c-464e-81ce-c69e7155d770",
   "metadata": {},
   "outputs": [],
   "source": []
  },
  {
   "cell_type": "markdown",
   "id": "23e76c34-fc66-45e7-997a-d5761cf32857",
   "metadata": {},
   "source": [
    "# filter color (Live Object Filter)"
   ]
  },
  {
   "cell_type": "code",
   "execution_count": 51,
   "id": "ed1d1fc1-2c74-4c9c-be0d-9179fd52f2d0",
   "metadata": {},
   "outputs": [],
   "source": [
    "cap = cv2.VideoCapture(0, cv2.CAP_DSHOW)  \n",
    "def color(x):\n",
    "    pass\n",
    "\n",
    "cv2.namedWindow(\"demo\")\n",
    "cv2.createTrackbar(\"lb\",\"demo\",0,255,color)  #lower hue                 #Hue = color type (0–179 in OpenCV).\n",
    "cv2.createTrackbar(\"lg\",\"demo\",0,255,color)  #lower saturation         #Saturation = color intensity.\n",
    "cv2.createTrackbar(\"lr\",\"demo\",0,255,color)  #lower value              #Value = brightness.\n",
    "\n",
    "cv2.createTrackbar(\"ub\",\"demo\",255,255,color)  #upper hue\n",
    "cv2.createTrackbar(\"ug\",\"demo\",255,255,color)  #upper saturation\n",
    "cv2.createTrackbar(\"ur\",\"demo\",255,255,color)  # upper value\n",
    "\n",
    "\n",
    "while True:\n",
    "     r, frame = cap.read()\n",
    "     if not r:\n",
    "        break\n",
    "        \n",
    "     img = cv2.resize(frame,(400,300))\n",
    "     hsv_img = cv2.cvtColor(img,cv2.COLOR_BGR2HSV)\n",
    "\n",
    "     lb = cv2.getTrackbarPos(\"lb\",\"demo\")\n",
    "     lg = cv2.getTrackbarPos(\"lg\",\"demo\")\n",
    "     lr = cv2.getTrackbarPos(\"lr\",\"demo\")\n",
    "\n",
    "     ub = cv2.getTrackbarPos(\"ub\",\"demo\")\n",
    "     ug = cv2.getTrackbarPos(\"ug\",\"demo\")\n",
    "     ur = cv2.getTrackbarPos(\"ur\",\"demo\")\n",
    "\n",
    "     lo = np.array([lb,lg,lr])\n",
    "     up = np.array([ub,ug,ur])\n",
    "\n",
    "     masks = cv2.inRange(hsv_img,lo,up)\n",
    "\n",
    "     res = cv2.bitwise_and(img,img,mask = masks)     #Keeps only the parts of the original image where the mask is white.,Everything else becomes black → isolates the selected color.\n",
    "\n",
    "     cv2.imshow(\"res\",res)\n",
    "     cv2.imshow(\"mask\",masks)\n",
    "     cv2.imshow(\"hsv\",hsv_img)\n",
    "     cv2.imshow(\"color\",img)\n",
    "     if cv2.waitKey(1) & 0xFF == ord('q'):\n",
    "         break\n",
    "\n",
    "cap.release()\n",
    "cv2.destroyAllWindows()"
   ]
  },
  {
   "cell_type": "code",
   "execution_count": null,
   "id": "08a8dfbf-fe27-44d1-9c1d-b0a0dffbdc1b",
   "metadata": {},
   "outputs": [],
   "source": []
  },
  {
   "cell_type": "markdown",
   "id": "21fdf870-401a-4fe8-93a7-b239d108cd8b",
   "metadata": {},
   "source": [
    "# Perspective Transformation"
   ]
  },
  {
   "cell_type": "code",
   "execution_count": 54,
   "id": "3e366078-213c-4f86-ad84-a619b2480da7",
   "metadata": {},
   "outputs": [],
   "source": [
    "img = cv2.imread(\"C:/Users/sumit/OneDrive/Desktop/cvimg/img1.png\")\n",
    "img = cv2.resize(img,(400,400))\n",
    "\n",
    "w,h = (400,400)\n",
    "\n",
    "src1 = np.float32([[101,142],[325,142],[43,432],[234,432]])\n",
    "dist1 = np.float32([[0,0],[w,0],[0,h],[w,h]])\n",
    "m = cv2.getPerspectiveTransform(src1,dist1)\n",
    "new_img = cv2.warpPerspective(img,m,(w,h))\n",
    "\n",
    "cv2.imshow(\"org\",img)\n",
    "cv2.imshow(\"new\",new_img)\n",
    "\n",
    "cv2.waitKey(0)\n",
    "cv2.destroyAllWindows()"
   ]
  },
  {
   "cell_type": "code",
   "execution_count": null,
   "id": "479272f1-5eee-4220-a3da-42540d571cf0",
   "metadata": {},
   "outputs": [],
   "source": []
  },
  {
   "cell_type": "code",
   "execution_count": null,
   "id": "9c7e52dd-22c5-46db-8c72-1cf52453a009",
   "metadata": {},
   "outputs": [],
   "source": []
  }
 ],
 "metadata": {
  "kernelspec": {
   "display_name": "Python 3 (ipykernel)",
   "language": "python",
   "name": "python3"
  },
  "language_info": {
   "codemirror_mode": {
    "name": "ipython",
    "version": 3
   },
   "file_extension": ".py",
   "mimetype": "text/x-python",
   "name": "python",
   "nbconvert_exporter": "python",
   "pygments_lexer": "ipython3",
   "version": "3.13.6"
  }
 },
 "nbformat": 4,
 "nbformat_minor": 5
}

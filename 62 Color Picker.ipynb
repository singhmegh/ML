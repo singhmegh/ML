{
 "cells": [
  {
   "cell_type": "code",
   "execution_count": 2,
   "id": "97eca09b-4347-4728-a000-a71a20068e11",
   "metadata": {},
   "outputs": [],
   "source": [
    "import cv2\n",
    "import numpy as np"
   ]
  },
  {
   "cell_type": "code",
   "execution_count": 3,
   "id": "b14b2b9b-f236-411f-a428-3487696404c8",
   "metadata": {},
   "outputs": [],
   "source": [
    "def picker(x):\n",
    "    pass"
   ]
  },
  {
   "cell_type": "code",
   "execution_count": 5,
   "id": "a904e4dd-a3e2-41a1-9b50-f9a596c737cf",
   "metadata": {},
   "outputs": [],
   "source": [
    "img = np.zeros((500,500,3),np.uint8)*255\n",
    "cv2.namedWindow(\"color\")\n",
    "\n",
    "cv2.createTrackbar(\"R\",\"color\",0,255,picker)\n",
    "cv2.createTrackbar(\"G\",\"color\",0,255,picker)\n",
    "cv2.createTrackbar(\"B\",\"color\",0,255,picker)\n",
    "\n",
    "while True:\n",
    "    cv2.imshow(\"Color\",img)\n",
    "    if cv2.waitKey(1) & 0xff == ord(\"p\"):\n",
    "        break\n",
    "    r = cv2.getTrackbarPos(\"R\",\"color\")\n",
    "    g = cv2.getTrackbarPos(\"G\",\"color\")\n",
    "    b = cv2.getTrackbarPos(\"B\",\"color\")\n",
    "\n",
    "    img[:] = [b,g,r]\n",
    "    \n",
    "cv2.destroyAllWindows()"
   ]
  },
  {
   "cell_type": "code",
   "execution_count": null,
   "id": "b2078896-8715-42ce-b926-7b5956191a2b",
   "metadata": {},
   "outputs": [],
   "source": []
  },
  {
   "cell_type": "markdown",
   "id": "3a302a3b-d77c-465d-a61d-544f1dce7f5d",
   "metadata": {},
   "source": [
    "# getTrackbarPos()"
   ]
  },
  {
   "cell_type": "code",
   "execution_count": 10,
   "id": "123851e7-1c0b-4086-a3e9-8c1b5628a4ba",
   "metadata": {},
   "outputs": [],
   "source": [
    "def colour(x):\n",
    "    pass"
   ]
  },
  {
   "cell_type": "code",
   "execution_count": null,
   "id": "35af6272-c6d7-48fa-ac6d-c87af9ee67dd",
   "metadata": {},
   "outputs": [],
   "source": [
    "img = np.zeros((500,500,3),np.uint8)*255\n",
    "cv2.namedWindow(\"bar\")\n",
    "\n",
    "cv2.createTrackbar(\"on\",\"bar\",0,100,colour)\n",
    "while True:\n",
    "    cv2.imshow(\"bar\",img)\n",
    "    if cv2.waitKey(1) & 0xff == ord(\"p\"):\n",
    "         break\n",
    "    var = cv2.getTrackbarPos(\"on\",\"bar\")\n",
    "    img[:] = [0,var,0]\n",
    "cv2.destroyAllWindows()\n",
    "\n",
    "\n",
    "cv2.imshow(\"black_blank\",img)\n",
    "cv2.waitKey(0)\n",
    "cv2.destroyAllWindows()"
   ]
  },
  {
   "cell_type": "code",
   "execution_count": null,
   "id": "b668633b-fdc3-4085-91bf-260479392efd",
   "metadata": {},
   "outputs": [],
   "source": []
  },
  {
   "cell_type": "markdown",
   "id": "d051ef9e-61ce-473b-9887-86593f36c42a",
   "metadata": {},
   "source": [
    "# Region of interest / Making clon of image"
   ]
  },
  {
   "cell_type": "code",
   "execution_count": 41,
   "id": "84c547ba-dbbf-4339-a76e-2e3409b1cd17",
   "metadata": {},
   "outputs": [],
   "source": [
    "#img = cv2.imread(\"C:/Users/sumit/OneDrive/Desktop/cvimg/img1.png\")\n",
    "#img = cv2.resize(img,(400,500))\n",
    "\n",
    "crop = img[15:210,120:300]\n",
    "#img[15:210,120:300]=crop\n",
    "\n",
    "cv2.imwrite(\"C:/Users/sumit/OneDrive/Desktop/cvimg/save.jpg\",img)\n",
    "cv2.imshow(\"clon\",img)\n",
    "cv2.waitKey(0)\n",
    "cv2.destroyAllWindows()"
   ]
  },
  {
   "cell_type": "code",
   "execution_count": null,
   "id": "a34559e9-dae3-41bd-b97f-92c7870d8d5b",
   "metadata": {},
   "outputs": [],
   "source": []
  }
 ],
 "metadata": {
  "kernelspec": {
   "display_name": "Python 3 (ipykernel)",
   "language": "python",
   "name": "python3"
  },
  "language_info": {
   "codemirror_mode": {
    "name": "ipython",
    "version": 3
   },
   "file_extension": ".py",
   "mimetype": "text/x-python",
   "name": "python",
   "nbconvert_exporter": "python",
   "pygments_lexer": "ipython3",
   "version": "3.13.6"
  }
 },
 "nbformat": 4,
 "nbformat_minor": 5
}

{
 "cells": [
  {
   "cell_type": "code",
   "execution_count": 1,
   "id": "187d7ab2-b619-470a-af48-33c2814e46f7",
   "metadata": {},
   "outputs": [],
   "source": [
    "import cv2\n",
    "import numpy as np"
   ]
  },
  {
   "cell_type": "markdown",
   "id": "c498df28-bfb8-4776-bff1-e3a78f5b2524",
   "metadata": {},
   "source": [
    "# Capture vedio from camera"
   ]
  },
  {
   "cell_type": "code",
   "execution_count": 3,
   "id": "9fc3aba3-8429-48a0-a933-652981d93b8a",
   "metadata": {},
   "outputs": [],
   "source": [
    "cap = cv2.VideoCapture(0, cv2.CAP_DSHOW)  # external webcam at index 0\n",
    "\n",
    "while True:\n",
    "    ret, frame = cap.read()\n",
    "    if not ret:\n",
    "        print(\"❌ Failed to grab frame\")\n",
    "        break\n",
    "\n",
    "    cv2.imshow(\"External Webcam\", frame)\n",
    "\n",
    "    if cv2.waitKey(1) & 0xFF == ord('q'):\n",
    "        break\n",
    "\n",
    "cap.release()\n",
    "cv2.destroyAllWindows()"
   ]
  },
  {
   "cell_type": "markdown",
   "id": "a3ac501c-e117-4102-b5a6-e3be29a81f6f",
   "metadata": {},
   "source": [
    "# Slow & fast motion"
   ]
  },
  {
   "cell_type": "code",
   "execution_count": 8,
   "id": "38ee7d11-10e2-4e59-95ff-8b76982cda02",
   "metadata": {},
   "outputs": [],
   "source": [
    "cap = cv2.VideoCapture(\"C:/Users/sumit/OneDrive/Desktop/cvimg/Screen Recording 2025-07-31 224915.mp4\")\n",
    "\n",
    "while cap.isOpened():\n",
    "    r,frame = cap.read()\n",
    "    frame = cv2.resize(frame,(500,500))\n",
    "    if r == True:\n",
    "        cv2.imshow(\"slow & fast\",frame)\n",
    "        if cv2.waitKey(25) & 0xff == ord(\"p\"):        # 25 se kam to fast motion and 25 se jayda to slow motion\n",
    "            break\n",
    "    else:\n",
    "        break\n",
    "cap.release()\n",
    "cv2.destroyAllWindows()"
   ]
  },
  {
   "cell_type": "code",
   "execution_count": null,
   "id": "0e61ecf1-52a4-4cde-9fac-0329c628f3a4",
   "metadata": {},
   "outputs": [],
   "source": []
  },
  {
   "cell_type": "markdown",
   "id": "307c292a-2505-4a1c-82a9-8b01e5306f71",
   "metadata": {},
   "source": [
    "# morphological operation"
   ]
  },
  {
   "cell_type": "code",
   "execution_count": 19,
   "id": "b5d2756c-1474-461a-807d-7215c5c8f586",
   "metadata": {},
   "outputs": [
    {
     "name": "stdout",
     "output_type": "stream",
     "text": [
      "[[1 1 1 1 1]\n",
      " [1 1 1 1 1]\n",
      " [1 1 1 1 1]\n",
      " [1 1 1 1 1]\n",
      " [1 1 1 1 1]]\n"
     ]
    }
   ],
   "source": [
    "img = cv2.imread(\"C:/Users/sumit/OneDrive/Desktop/cvimg/j.jpg\")\n",
    "img = cv2.resize(img,(500,500))\n",
    "\n",
    "m = np.ones((5,5),np.uint8)                    #Creates a 5×5 matrix (2D array).Fills it with all 1s. \n",
    "print(m)                                       #np.uint8 (unsigned 8-bit integer: values range 0–255).\n",
    "\n",
    "er = cv2.erode(img,m,iterations=1)             #cv2.erode() shrinks white areas and enlarges black areas\n",
    "di = cv2.dilate(img,m,iterations=1)             #white (bright) regions grow and black (dark) regions shrink.\n",
    "\n",
    "\n",
    "cv2.imshow(\"morphological\",img)\n",
    "cv2.imshow(\"morphological_ER\",er)\n",
    "cv2.imshow(\"morphological_di\",di)\n",
    "cv2.waitKey(0)\n",
    "cv2.destroyAllWindows()"
   ]
  },
  {
   "cell_type": "code",
   "execution_count": null,
   "id": "9aaafb08-adc1-4e1c-95a4-38f4079fb86d",
   "metadata": {},
   "outputs": [],
   "source": []
  },
  {
   "cell_type": "markdown",
   "id": "b7b82017-70fd-4e99-99b1-81e4e2f94ac2",
   "metadata": {},
   "source": [
    "# opening method"
   ]
  },
  {
   "cell_type": "code",
   "execution_count": 37,
   "id": "26bc3739-0a0d-4529-8f60-5c3df1ec6d85",
   "metadata": {},
   "outputs": [],
   "source": [
    "img = cv2.imread(\"C:/Users/sumit/OneDrive/Desktop/cvimg/o.jpg\")\n",
    "img = cv2.resize(img,(300,300))\n",
    "\n",
    "k = np.ones((15,15),np.uint8)\n",
    "                                                            #Opening = Erosion → then Dilation\n",
    "op = cv2.morphologyEx(img,cv2.MORPH_OPEN,k,iterations=1)   #removes small white noise (tiny white spots on black background).\n",
    "\n",
    "cv2.imshow(\"org\",img)\n",
    "cv2.imshow(\"opening\",op)\n",
    "cv2.waitKey(0)\n",
    "cv2.destroyAllWindows()"
   ]
  },
  {
   "cell_type": "markdown",
   "id": "7d72ba76-870e-473d-997e-2e0609c18d26",
   "metadata": {},
   "source": [
    "# Closing method"
   ]
  },
  {
   "cell_type": "code",
   "execution_count": 38,
   "id": "23eadac1-d3ef-4f68-b236-dedaced3424c",
   "metadata": {},
   "outputs": [],
   "source": [
    "img = cv2.imread(\"C:/Users/sumit/OneDrive/Desktop/cvimg/c.webp\")\n",
    "img = cv2.resize(img,(300,300))\n",
    "\n",
    "k = np.ones((15,15),np.uint8)\n",
    "                                                              #Closing = Dilation → then Erosion\n",
    "cl = cv2.morphologyEx(img,cv2.MORPH_CLOSE,k,iterations=1)    #fills small black holes/gaps inside white regions, smooths contours.\n",
    "\n",
    "cv2.imshow(\"org\",img)\n",
    "cv2.imshow(\"closing\",cl)\n",
    "cv2.waitKey(0)\n",
    "cv2.destroyAllWindows()"
   ]
  },
  {
   "cell_type": "markdown",
   "id": "6bce1e74-c77a-48aa-bfe0-6b53c23de063",
   "metadata": {},
   "source": [
    "# Morphological gradient"
   ]
  },
  {
   "cell_type": "code",
   "execution_count": 29,
   "id": "b53d51f8-df14-4f5c-a795-268153fc7a33",
   "metadata": {},
   "outputs": [],
   "source": [
    "img = cv2.imread(\"C:/Users/sumit/OneDrive/Desktop/cvimg/j.jpg\")\n",
    "img = cv2.resize(img,(500,500))\n",
    "k = np.ones((15,15),np.uint8)\n",
    "                                                                  #Morphological Gradient = Dilation – Erosion\n",
    "gr = cv2.morphologyEx(img,cv2.MORPH_GRADIENT,k,iterations=1)      #It highlights the edges/boundaries of objects.\n",
    "\n",
    "cv2.imshow(\"org\",img)\n",
    "cv2.imshow(\"Gradient\",gr)\n",
    "cv2.waitKey(0)\n",
    "cv2.destroyAllWindows()"
   ]
  },
  {
   "cell_type": "markdown",
   "id": "8accb747-53ed-4c30-8a50-775cf26590b8",
   "metadata": {},
   "source": [
    "# Top hat"
   ]
  },
  {
   "cell_type": "code",
   "execution_count": 39,
   "id": "78d10e4d-4faf-4021-965b-863c53579f3a",
   "metadata": {},
   "outputs": [],
   "source": [
    "img = cv2.imread(\"C:/Users/sumit/OneDrive/Desktop/cvimg/j.jpg\")\n",
    "img = cv2.resize(img,(500,500))\n",
    "k = np.ones((35,35),np.uint8)                 \n",
    "                                                                 #Top-hat = Original Image – Opening\n",
    "th = cv2.morphologyEx(img,cv2.MORPH_TOPHAT,k,iterations=1)      #It extracts small bright regions that are smaller than the structuring element (kernel)\n",
    "\n",
    "cv2.imshow(\"org\",img)\n",
    "cv2.imshow(\"TopHat\",th)\n",
    "cv2.waitKey(0)\n",
    "cv2.destroyAllWindows()"
   ]
  },
  {
   "cell_type": "markdown",
   "id": "9b02afc7-7e39-49d8-a196-fe762d4c4459",
   "metadata": {},
   "source": [
    "# Black Hat"
   ]
  },
  {
   "cell_type": "code",
   "execution_count": 36,
   "id": "9ac4def8-98fe-4156-aeab-543ee7ab2143",
   "metadata": {},
   "outputs": [],
   "source": [
    "img = cv2.imread(\"C:/Users/sumit/OneDrive/Desktop/cvimg/j.jpg\")\n",
    "img = cv2.resize(img,(500,500))\n",
    "k = np.ones((15,15),np.uint8)\n",
    "                                                                #Black-hat = Closing – Original\n",
    "bh = cv2.morphologyEx(img,cv2.MORPH_BLACKHAT,k,iterations=1)    #It extracts dark regions (small black spots/lines) on a bright background.\n",
    "\n",
    "cv2.imshow(\"org\",img)\n",
    "cv2.imshow(\"BlackHat\",bh)\n",
    "cv2.waitKey(0)\n",
    "cv2.destroyAllWindows()"
   ]
  },
  {
   "cell_type": "code",
   "execution_count": null,
   "id": "ab941773-6595-4e6d-9a85-467c9bc4e746",
   "metadata": {},
   "outputs": [],
   "source": []
  }
 ],
 "metadata": {
  "kernelspec": {
   "display_name": "Python 3 (ipykernel)",
   "language": "python",
   "name": "python3"
  },
  "language_info": {
   "codemirror_mode": {
    "name": "ipython",
    "version": 3
   },
   "file_extension": ".py",
   "mimetype": "text/x-python",
   "name": "python",
   "nbconvert_exporter": "python",
   "pygments_lexer": "ipython3",
   "version": "3.13.6"
  }
 },
 "nbformat": 4,
 "nbformat_minor": 5
}

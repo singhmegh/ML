{
 "cells": [
  {
   "cell_type": "code",
   "execution_count": 2,
   "id": "187d7ab2-b619-470a-af48-33c2814e46f7",
   "metadata": {},
   "outputs": [],
   "source": [
    "import cv2\n",
    "import numpy as np"
   ]
  },
  {
   "cell_type": "markdown",
   "id": "c498df28-bfb8-4776-bff1-e3a78f5b2524",
   "metadata": {},
   "source": [
    "# Capture vedio from camera"
   ]
  },
  {
   "cell_type": "code",
   "execution_count": 2,
   "id": "889e4abc-f17f-43a5-9400-bc9eb2c2571a",
   "metadata": {},
   "outputs": [],
   "source": [
    "cap = cv2.VideoCapture(0)\n",
    "while True:\n",
    "    r,frame = cap.read()\n",
    "    if r == True:\n",
    "        frame = cv2.resize(frame,(500,500))\n",
    "        cv2.imshow(\"My_cam\",frame)\n",
    "        if cv2.waitKey(25) & 0xff == ord(\"m\"):\n",
    "            break\n",
    "        else:\n",
    "            break\n",
    "cap.release()\n",
    "cv2.destroyAllWindows()"
   ]
  },
  {
   "cell_type": "code",
   "execution_count": 5,
   "id": "860df871-7784-4b78-80d2-eaf0ebcd20b8",
   "metadata": {},
   "outputs": [
    {
     "name": "stdout",
     "output_type": "stream",
     "text": [
      "❌ Camera not accessible\n"
     ]
    }
   ],
   "source": [
    "import cv2\n",
    "\n",
    "cap = cv2.VideoCapture(2)  \n",
    "\n",
    "if not cap.isOpened():\n",
    "    print(\"❌ Camera not accessible\")\n",
    "else:\n",
    "    print(\"✅ Camera opened successfully\")\n",
    "\n",
    "cap.release()\n"
   ]
  },
  {
   "cell_type": "code",
   "execution_count": 7,
   "id": "ed42624b-3014-4f94-89ce-035e70098cb2",
   "metadata": {},
   "outputs": [
    {
     "name": "stdout",
     "output_type": "stream",
     "text": [
      "No camera at index 0\n",
      "No camera at index 1\n",
      "No camera at index 2\n",
      "No camera at index 3\n",
      "No camera at index 4\n"
     ]
    }
   ],
   "source": [
    "\n",
    "\n",
    "for i in range(5):  # test first 5 indices\n",
    "    cap = cv2.VideoCapture(i)\n",
    "    if cap.isOpened():\n",
    "        print(f\"Camera found at index {i}\")\n",
    "        cap.release()\n",
    "    else:\n",
    "        print(f\"No camera at index {i}\")\n"
   ]
  },
  {
   "cell_type": "code",
   "execution_count": 8,
   "id": "47a1e47e-12ff-43d7-a5ee-7395907b2152",
   "metadata": {},
   "outputs": [
    {
     "name": "stdout",
     "output_type": "stream",
     "text": [
      "❌ Cannot open external webcam\n",
      "❌ Failed to grab frame\n"
     ]
    }
   ],
   "source": [
    "\n",
    "\n",
    "# Try forcing DirectShow backend\n",
    "cap = cv2.VideoCapture(1, cv2.CAP_DSHOW)  \n",
    "\n",
    "if not cap.isOpened():\n",
    "    print(\"❌ Cannot open external webcam\")\n",
    "    exit()\n",
    "\n",
    "while True:\n",
    "    r, frame = cap.read()\n",
    "    if not r:\n",
    "        print(\"❌ Failed to grab frame\")\n",
    "        break\n",
    "\n",
    "    frame = cv2.resize(frame, (500, 400))\n",
    "    cv2.imshow(\"External Webcam\", frame)\n",
    "\n",
    "    if cv2.waitKey(25) & 0xFF == ord(\"q\"):  # press q to quit\n",
    "        break\n",
    "\n",
    "cap.release()\n",
    "cv2.destroyAllWindows()\n"
   ]
  },
  {
   "cell_type": "code",
   "execution_count": 3,
   "id": "b3ba8bde-1f71-4ec4-9d66-db2c4b02ad7a",
   "metadata": {},
   "outputs": [
    {
     "name": "stdout",
     "output_type": "stream",
     "text": [
      "❌ No camera at index 0\n",
      "❌ No camera at index 1\n",
      "❌ No camera at index 2\n",
      "❌ No camera at index 3\n",
      "❌ No camera at index 4\n"
     ]
    }
   ],
   "source": [
    "\n",
    "\n",
    "for i in range(5):  # check first 5 possible indices\n",
    "    cap = cv2.VideoCapture(i, cv2.CAP_DSHOW)  # force DirectShow\n",
    "    if cap.isOpened():\n",
    "        print(f\"✅ Camera at index {i} opened\")\n",
    "        cap.release()\n",
    "    else:\n",
    "        print(f\"❌ No camera at index {i}\")\n"
   ]
  },
  {
   "cell_type": "code",
   "execution_count": null,
   "id": "9fc3aba3-8429-48a0-a933-652981d93b8a",
   "metadata": {},
   "outputs": [],
   "source": []
  }
 ],
 "metadata": {
  "kernelspec": {
   "display_name": "Python 3 (ipykernel)",
   "language": "python",
   "name": "python3"
  },
  "language_info": {
   "codemirror_mode": {
    "name": "ipython",
    "version": 3
   },
   "file_extension": ".py",
   "mimetype": "text/x-python",
   "name": "python",
   "nbconvert_exporter": "python",
   "pygments_lexer": "ipython3",
   "version": "3.13.6"
  }
 },
 "nbformat": 4,
 "nbformat_minor": 5
}

{
 "cells": [
  {
   "cell_type": "code",
   "execution_count": 1,
   "id": "6c12c4e4-fe23-4662-9121-d01938970ead",
   "metadata": {},
   "outputs": [],
   "source": [
    "import cv2\n",
    "import numpy as np"
   ]
  },
  {
   "cell_type": "code",
   "execution_count": 11,
   "id": "0ff708f9-5ccd-4f72-805a-a792fccbc65a",
   "metadata": {},
   "outputs": [],
   "source": [
    "img = cv2.imread(\"C:/Users/sumit/OneDrive/Desktop/cvimg/sudoku.png\")\n",
    "img = cv2.resize(img,(400,400))\n",
    "\n",
    "gry = cv2.cvtColor(img,cv2.COLOR_BGR2GRAY)          #Hough Line Transform works best on single-channel images.\n",
    "edg = cv2.Canny(gry,20,250)                         #Uses Canny Edge Detector.,Thresholds are 20 (low) and 250 (high).\n",
    "\n",
    "lines = cv2.HoughLines(edg,1,np.pi/180,200)         #1 → resolution of rho (distance from origin to line) = 1 pixel.,np.pi/180 → resolution of theta (angle step) = 1 degree.\n",
    "\n",
    "for r,th in lines[0]:\n",
    "    a = np.cos(th)\n",
    "    b = np.sin(th)\n",
    "\n",
    "    x0 = a*r\n",
    "    y0 = b*r\n",
    "\n",
    "    x1 = int(x0+1000*(-b))                      #1000? → It’s just a large number, ensures the line extends outside the image size.\n",
    "    y1 = int(x0+1000*(a))\n",
    "    x2 = int(x0-1000*(-b))\n",
    "    y2 = int(x0-1000*(a))\n",
    "\n",
    "    cv2.line(img,(x1,y1),(x2,y2),(0,255,0),2)\n",
    "\n",
    "cv2.imshow(\"org\",img)\n",
    "cv2.waitKey(0)\n",
    "cv2.destroyAllWindows()"
   ]
  },
  {
   "cell_type": "markdown",
   "id": "6b228618-c707-434c-8796-6c5b1fd6d2ef",
   "metadata": {},
   "source": [
    "# shortest method"
   ]
  },
  {
   "cell_type": "code",
   "execution_count": 12,
   "id": "2791ed84-e00b-44d6-adb0-a07c328c3a5e",
   "metadata": {},
   "outputs": [],
   "source": [
    "img = cv2.imread(\"C:/Users/sumit/OneDrive/Desktop/cvimg/sudoku.png\")\n",
    "img = cv2.resize(img,(400,400))\n",
    "\n",
    "gry = cv2.cvtColor(img,cv2.COLOR_BGR2GRAY)          \n",
    "edg = cv2.Canny(gry,20,250)\n",
    "\n",
    "l = cv2.HoughLinesP(edg,1,np.pi/180,200,minLineLength = 180,maxLineGap = 100)\n",
    "\n",
    "for i in l:\n",
    "    x1,y1,x2,y2 = i[0]\n",
    "    cv2.line(img,(x1,y1),(x2,y2),(0,255,0),2)\n",
    "\n",
    "cv2.imshow(\"org\",img)\n",
    "cv2.waitKey(0)\n",
    "cv2.destroyAllWindows()"
   ]
  },
  {
   "cell_type": "code",
   "execution_count": null,
   "id": "767f1bec-7014-443e-a0d2-09bdef67af73",
   "metadata": {},
   "outputs": [],
   "source": []
  },
  {
   "cell_type": "markdown",
   "id": "76bcf463-e500-470d-b6fb-dfc6e5c95624",
   "metadata": {},
   "source": [
    "# Template Matching "
   ]
  },
  {
   "cell_type": "code",
   "execution_count": null,
   "id": "f676777c-99ed-4671-88af-405c7db6183d",
   "metadata": {},
   "outputs": [],
   "source": []
  }
 ],
 "metadata": {
  "kernelspec": {
   "display_name": "Python 3 (ipykernel)",
   "language": "python",
   "name": "python3"
  },
  "language_info": {
   "codemirror_mode": {
    "name": "ipython",
    "version": 3
   },
   "file_extension": ".py",
   "mimetype": "text/x-python",
   "name": "python",
   "nbconvert_exporter": "python",
   "pygments_lexer": "ipython3",
   "version": "3.13.6"
  }
 },
 "nbformat": 4,
 "nbformat_minor": 5
}

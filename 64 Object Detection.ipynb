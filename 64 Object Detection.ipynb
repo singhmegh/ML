{
 "cells": [
  {
   "cell_type": "markdown",
   "id": "1eb405f0-5fc5-45bc-9248-ffee85cfd3d7",
   "metadata": {},
   "source": [
    "# Object detection using contours"
   ]
  },
  {
   "cell_type": "code",
   "execution_count": 1,
   "id": "3aa822db-2751-468e-929a-e2f7dddabd08",
   "metadata": {},
   "outputs": [],
   "source": [
    "import cv2\n",
    "import numpy as np"
   ]
  },
  {
   "cell_type": "code",
   "execution_count": 4,
   "id": "5d7b5e4c-440b-45cb-8407-fec2040d1d0d",
   "metadata": {},
   "outputs": [],
   "source": [
    "def nothing(x):\n",
    "    pass\n",
    "\n",
    "cv2.namedWindow(\"Object_detection\")\n",
    "\n",
    "cv2.createTrackbar(\"th\",\"Object_detection\",0,255, nothing)\n",
    "\n",
    "cv2.createTrackbar(\"lb\",\"Object_detection\",0,255, nothing)\n",
    "cv2.createTrackbar(\"lg\",\"Object_detection\",0,255, nothing)\n",
    "cv2.createTrackbar(\"lr\",\"Object_detection\",0,255, nothing)\n",
    "\n",
    "cv2.createTrackbar(\"hb\",\"Object_detection\",255,255, nothing)\n",
    "cv2.createTrackbar(\"hg\",\"Object_detection\",255,255, nothing)\n",
    "cv2.createTrackbar(\"hr\",\"Object_detection\",255,255, nothing)\n",
    "\n",
    "cap = cv2.VideoCapture(0)\n",
    "while cap.isOpened():\n",
    "    r,frame = cap.read()\n",
    "    if not r:\n",
    "        break\n",
    "\n",
    "    thr = cv2.getTrackbarPos(\"th\",\"Object_detection\")\n",
    "\n",
    "    LB = cv2.getTrackbarPos(\"lb\",\"Object_detection\")\n",
    "    LG = cv2.getTrackbarPos(\"lg\",\"Object_detection\")\n",
    "    LR = cv2.getTrackbarPos(\"lr\",\"Object_detection\")\n",
    "\n",
    "    HB = cv2.getTrackbarPos(\"hb\",\"Object_detection\")\n",
    "    HG = cv2.getTrackbarPos(\"hg\",\"Object_detection\")\n",
    "    HR = cv2.getTrackbarPos(\"hr\",\"Object_detection\")\n",
    "\n",
    "    lower = np.array([LB,LG,LR])\n",
    "    upper = np.array([HB,HG,HR])\n",
    "        \n",
    "    frame = cv2.flip(frame,1)\n",
    "    frame = cv2.resize(frame,(300,300))\n",
    "    hsv = cv2.cvtColor(frame,cv2.COLOR_BGR2HSV)\n",
    "    \n",
    "    m = cv2.inRange(hsv,lower,upper)\n",
    "    res = cv2.bitwise_and(frame,frame,mask = m)\n",
    "    fr = cv2.bitwise_not(res)                     #It reduce the noise\n",
    "\n",
    "    ret,thi = cv2.threshold(m,thr,255,cv2.THRESH_BINARY)\n",
    "    cnt,hr = cv2.findContours(thi,cv2.RETR_TREE,cv2.CHAIN_APPROX_SIMPLE)\n",
    "\n",
    "    cv2.drawContours(frame,cnt,-1,(255,0,0),2)\n",
    "\n",
    "    cv2.imshow(\"thr\",thi)\n",
    "    cv2.imshow(\"res\",res)\n",
    "    cv2.imshow(\"mask\",m)\n",
    "    #cv2.imshow(\"hsv\",hsv)\n",
    "    cv2.imshow(\"live_frame\",frame)\n",
    "    \n",
    "    if cv2.waitKey(25) & 0xff == ord(\"p\"):\n",
    "        break\n",
    "\n",
    "\n",
    "\n",
    "cap.release()\n",
    "cv2.destroyAllWindows()\n"
   ]
  },
  {
   "cell_type": "code",
   "execution_count": null,
   "id": "8f7ef914-53f9-4fdb-97e7-d6c807683337",
   "metadata": {},
   "outputs": [],
   "source": []
  },
  {
   "cell_type": "markdown",
   "id": "9710acfa-262c-42c9-b190-8a3cc072b5a4",
   "metadata": {},
   "source": [
    "# Image bg removal with histrogram"
   ]
  },
  {
   "cell_type": "code",
   "execution_count": 27,
   "id": "071b7234-2a0c-4785-bd22-2204af91517e",
   "metadata": {},
   "outputs": [],
   "source": [
    "img = cv2.imread(\"C:/Users/sumit/OneDrive/Desktop/cvimg/green.jpeg\") \n",
    "img = cv2.resize(img,(300,400))\n",
    "hsv = cv2.cvtColor(img,cv2.COLOR_BGR2HSV)\n",
    "\n",
    "img1 = cv2.imread(\"C:/Users/sumit/OneDrive/Desktop/cvimg/green_bg.jpeg\")\n",
    "hsv2 = cv2.cvtColor(img1,cv2.COLOR_BGR2HSV)\n",
    "\n",
    "hist = cv2.calcHist([hsv2],[0,1],None,[180,256],[0,180,0,256])\n",
    "mask = cv2.calcBackProject([hsv],[0,1],hist,[0,180,0,256],1)\n",
    "\n",
    "#res = cv2.bitwise_or(img,img,mask = mask)\n",
    "\n",
    "ker = cv2.getStructuringElement(cv2.MORPH_ELLIPSE,(5,5))\n",
    "mask = cv2.filter2D(mask,-1,ker)\n",
    "\n",
    "_,thr = cv2.threshold(mask,230,255,cv2.THRESH_BINARY)\n",
    "\n",
    "mask = cv2.merge((mask,mask,mask))\n",
    "\n",
    "res = cv2.bitwise_or(img,mask)\n",
    "\n",
    "\n",
    "\n",
    "cv2.imshow(\"res\",res)                   \n",
    "cv2.imshow(\"org\",img)\n",
    "cv2.waitKey(0)\n",
    "cv2.destroyAllWindows()"
   ]
  },
  {
   "cell_type": "code",
   "execution_count": null,
   "id": "88f79534-3f5e-4fe4-ad27-4984f440b987",
   "metadata": {},
   "outputs": [],
   "source": []
  }
 ],
 "metadata": {
  "kernelspec": {
   "display_name": "Python 3 (ipykernel)",
   "language": "python",
   "name": "python3"
  },
  "language_info": {
   "codemirror_mode": {
    "name": "ipython",
    "version": 3
   },
   "file_extension": ".py",
   "mimetype": "text/x-python",
   "name": "python",
   "nbconvert_exporter": "python",
   "pygments_lexer": "ipython3",
   "version": "3.13.6"
  }
 },
 "nbformat": 4,
 "nbformat_minor": 5
}

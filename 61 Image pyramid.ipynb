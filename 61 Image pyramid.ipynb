{
 "cells": [
  {
   "cell_type": "code",
   "execution_count": 1,
   "id": "fbec3d21-bd5d-4ce3-8910-1071560fa45f",
   "metadata": {},
   "outputs": [],
   "source": [
    "import cv2\n",
    "import numpy as np"
   ]
  },
  {
   "cell_type": "code",
   "execution_count": 2,
   "id": "0255ed4c-ec58-417a-82f2-fc730f19950a",
   "metadata": {},
   "outputs": [
    {
     "name": "stdout",
     "output_type": "stream",
     "text": [
      "(159, 318, 3)\n",
      "(80, 159, 3)\n",
      "(40, 80, 3)\n",
      "(20, 40, 3)\n"
     ]
    }
   ],
   "source": [
    " img = cv2.imread(\"C:/Users/sumit/OneDrive/Desktop/cvimg/img1.png\")\n",
    "print(img.shape)\n",
    "\n",
    "img1 = cv2.pyrDown(img)\n",
    "print(img1.shape)\n",
    "\n",
    "img2 = cv2.pyrDown(img1)\n",
    "print(img2.shape)\n",
    "\n",
    "img3 = cv2.pyrDown(img2)         #It reduces the width and height by half (each dimension is divided by 2).\n",
    "print(img3.shape)\n",
    "\n",
    "cv2.imshow(\"org\",img)\n",
    "cv2.imshow(\"pyr1\",img1)\n",
    "cv2.imshow(\"pyr2\",img2)\n",
    "cv2.imshow(\"pyr3\",img3)\n",
    "cv2.waitKey(0)\n",
    "cv2.destroyAllWindows()"
   ]
  },
  {
   "cell_type": "code",
   "execution_count": 3,
   "id": "5be0c64f-f536-4a84-b544-e6252f3be18e",
   "metadata": {},
   "outputs": [
    {
     "name": "stdout",
     "output_type": "stream",
     "text": [
      "(159, 318, 3)\n",
      "(80, 159, 3)\n",
      "(160, 318, 3)\n"
     ]
    }
   ],
   "source": [
    "img = cv2.imread(\"C:/Users/sumit/OneDrive/Desktop/cvimg/img1.png\")\n",
    "print(img.shape)\n",
    "\n",
    "img1 = cv2.pyrDown(img)\n",
    "print(img1.shape)\n",
    "\n",
    "big_img = cv2.pyrUp(img1)\n",
    "print(big_img.shape)\n",
    "\n",
    "cv2.imshow(\"pyr1\",img1)\n",
    "cv2.imshow(\"big_img\",big_img)\n",
    "cv2.waitKey(0)\n",
    "cv2.destroyAllWindows()"
   ]
  },
  {
   "cell_type": "code",
   "execution_count": null,
   "id": "bf6ca4d4-29b3-4867-8b29-0a7cabe0f74c",
   "metadata": {},
   "outputs": [],
   "source": []
  },
  {
   "cell_type": "markdown",
   "id": "ed5018aa-676e-4b04-8e32-c50e8844a1ae",
   "metadata": {},
   "source": [
    "# Image translation"
   ]
  },
  {
   "cell_type": "code",
   "execution_count": 4,
   "id": "c850e2f5-4ff3-4dcc-8987-c267e6568008",
   "metadata": {},
   "outputs": [],
   "source": [
    "img = cv2.imread(\"C:/Users/sumit/OneDrive/Desktop/cvimg/img1.png\")\n",
    "img = cv2.resize(img,(500,500))\n",
    "\n",
    "m = np.float32([[1,0,100],[0,1,50]])          #100 → move right by 100 pixels , 50 → move down by 50 pixels\n",
    "                                              # The 1 and 0 values keep scaling and rotation unchanged (so only translation happens).\n",
    "new = cv2.warpAffine(img,m,(500,500))\n",
    "\n",
    "cv2.imshow(\"org\",img)\n",
    "cv2.imshow(\"trans2\",new)\n",
    "cv2.waitKey(0)\n",
    "cv2.destroyAllWindows()"
   ]
  },
  {
   "cell_type": "code",
   "execution_count": null,
   "id": "fcf1fa2f-5dfc-422d-9adc-842106d319c6",
   "metadata": {},
   "outputs": [],
   "source": []
  },
  {
   "cell_type": "markdown",
   "id": "1f139a08-baeb-4631-bf9e-a437dad6754f",
   "metadata": {},
   "source": [
    "# Background substraction"
   ]
  },
  {
   "cell_type": "code",
   "execution_count": 14,
   "id": "adc3b327-9889-4c89-acd4-09b2bd9a3a2b",
   "metadata": {},
   "outputs": [],
   "source": [
    "org_v = cv2.VideoCapture(\"C:/Users/sumit/OneDrive/Desktop/cvimg/Screen Recording 2025-07-31 224915.mp4\")\n",
    "sub_m = cv2.createBackgroundSubtractorMOG2()\n",
    "\n",
    "while True:\n",
    "    r,frame = org_v.read()\n",
    "    if r == True:\n",
    "         frame = cv2.resize(frame,(700,500))\n",
    "         sub_v = sub_m.apply(frame)\n",
    "         cv2.imshow(\"sub_bg\",sub_v)\n",
    "         cv2.imshow(\"org\",frame)\n",
    "         if cv2.waitKey(25) & 0xff == ord(\"p\"):\n",
    "            break\n",
    "    else:\n",
    "        break\n",
    "org_v.release()\n",
    "cv2.destroyAllWindows()"
   ]
  },
  {
   "cell_type": "code",
   "execution_count": null,
   "id": "8b584646-df56-461a-a8f0-4fbcb2973847",
   "metadata": {},
   "outputs": [],
   "source": []
  },
  {
   "cell_type": "markdown",
   "id": "ed9d06a5-73ef-40e2-9947-72dda3c4ea7c",
   "metadata": {},
   "source": [
    "# Extract images from vedio"
   ]
  },
  {
   "cell_type": "code",
   "execution_count": 17,
   "id": "43e24aed-33c0-4c9a-993a-75535d962542",
   "metadata": {},
   "outputs": [],
   "source": [
    "org_v = cv2.VideoCapture(\"C:/Users/sumit/OneDrive/Desktop/cvimg/Screen Recording 2025-07-31 224915.mp4\")\n",
    "c = 0\n",
    "while True:\n",
    "    r,frame = org_v.read()\n",
    "    if r == True:\n",
    "         frame = cv2.resize(frame,(700,500))\n",
    "         filename = \"C:/Users/sumit/OneDrive/Desktop/nn/org_img_\"+str(c)+\".png\"\n",
    "         cv2.imwrite(filename,frame)\n",
    "         cv2.imshow(\"org\",frame)\n",
    "         c = c+1 \n",
    "         if cv2.waitKey(25) & 0xff == ord(\"p\"):\n",
    "            break\n",
    "    else:\n",
    "        break\n",
    "org_v.release()\n",
    "cv2.destroyAllWindows()"
   ]
  },
  {
   "cell_type": "code",
   "execution_count": null,
   "id": "005fd5bf-f79d-4ee9-8f4f-06e64e458170",
   "metadata": {},
   "outputs": [],
   "source": []
  },
  {
   "cell_type": "markdown",
   "id": "23f69e28-54db-4d38-8658-f632d5e5b1cf",
   "metadata": {},
   "source": [
    "# CVT Color method"
   ]
  },
  {
   "cell_type": "code",
   "execution_count": 20,
   "id": "bc2d8c3f-40fb-4007-863d-995b7c34bfee",
   "metadata": {},
   "outputs": [],
   "source": [
    "img = cv2.imread(\"C:/Users/sumit/OneDrive/Desktop/cvimg/img1.png\")\n",
    "img = cv2.resize(img,(500,500))\n",
    "\n",
    "#new = cv2.cvtColor(img,cv2.COLOR_BGR2GRAY)\n",
    "new = cv2.cvtColor(img,cv2.COLOR_BGR2HSV)\n",
    "\n",
    "cv2.imshow(\"org\",img)\n",
    "cv2.imshow(\"new\",new)\n",
    "cv2.waitKey(0)\n",
    "cv2.destroyAllWindows()"
   ]
  },
  {
   "cell_type": "code",
   "execution_count": null,
   "id": "23e303c0-0319-4524-98dc-5aa1e6c10c5c",
   "metadata": {},
   "outputs": [],
   "source": []
  },
  {
   "cell_type": "markdown",
   "id": "81d26e44-592c-4cc6-b5d1-2266093b5ef4",
   "metadata": {},
   "source": [
    "# crop image "
   ]
  },
  {
   "cell_type": "code",
   "execution_count": 36,
   "id": "45b77d76-6fae-42d4-b650-bb19fae7f5d0",
   "metadata": {},
   "outputs": [],
   "source": [
    "img = cv2.imread(\"C:/Users/sumit/OneDrive/Desktop/cvimg/img1.png\")\n",
    "img = cv2.resize(img,(500,600))\n",
    "\n",
    "#img[y1:y2 , x1:x2]\n",
    "crop = img[120:180,200:400]\n",
    "\n",
    "cv2.imshow(\"org\",img)\n",
    "cv2.imshow(\"crop\",crop)\n",
    "cv2.waitKey(0)\n",
    "cv2.destroyAllWindows()"
   ]
  },
  {
   "cell_type": "code",
   "execution_count": null,
   "id": "f58d1c11-3e1b-486c-b997-23bd83153b91",
   "metadata": {},
   "outputs": [],
   "source": []
  },
  {
   "cell_type": "markdown",
   "id": "1e89b7d6-1830-4476-bd48-97549b647a92",
   "metadata": {},
   "source": [
    "# Create blank img (black and white img)"
   ]
  },
  {
   "cell_type": "code",
   "execution_count": 38,
   "id": "88fc322b-24f6-4908-b12c-39fcbb6a4db4",
   "metadata": {},
   "outputs": [],
   "source": [
    "new_img = np.ones((500,500,3),np.uint8)*255\n",
    "cv2.imshow(\"white_blank\",new_img)\n",
    "cv2.waitKey(0)\n",
    "cv2.destroyAllWindows()"
   ]
  },
  {
   "cell_type": "code",
   "execution_count": 39,
   "id": "b5042421-2801-42cd-b0c9-903cce6df24e",
   "metadata": {},
   "outputs": [],
   "source": [
    "new_img = np.zeros((500,500,3),np.uint8)*255\n",
    "cv2.imshow(\"black_blank\",new_img)\n",
    "cv2.waitKey(0)\n",
    "cv2.destroyAllWindows()"
   ]
  },
  {
   "cell_type": "code",
   "execution_count": null,
   "id": "11183340-02d0-493d-8047-8498204cfbcf",
   "metadata": {},
   "outputs": [],
   "source": []
  },
  {
   "cell_type": "code",
   "execution_count": null,
   "id": "97997087-d81e-43fa-ad59-4f7d697fed81",
   "metadata": {},
   "outputs": [],
   "source": []
  },
  {
   "cell_type": "code",
   "execution_count": null,
   "id": "651c70c3-6176-4ad2-8ad2-26548ae4ed4e",
   "metadata": {},
   "outputs": [],
   "source": []
  },
  {
   "cell_type": "code",
   "execution_count": null,
   "id": "784512e6-0ab1-4266-9fb4-c892ccdca1c2",
   "metadata": {},
   "outputs": [],
   "source": []
  }
 ],
 "metadata": {
  "kernelspec": {
   "display_name": "Python 3 (ipykernel)",
   "language": "python",
   "name": "python3"
  },
  "language_info": {
   "codemirror_mode": {
    "name": "ipython",
    "version": 3
   },
   "file_extension": ".py",
   "mimetype": "text/x-python",
   "name": "python",
   "nbconvert_exporter": "python",
   "pygments_lexer": "ipython3",
   "version": "3.13.6"
  }
 },
 "nbformat": 4,
 "nbformat_minor": 5
}

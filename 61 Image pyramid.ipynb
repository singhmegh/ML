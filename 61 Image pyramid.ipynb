{
 "cells": [
  {
   "cell_type": "code",
   "execution_count": 1,
   "id": "fbec3d21-bd5d-4ce3-8910-1071560fa45f",
   "metadata": {},
   "outputs": [],
   "source": [
    "import cv2\n",
    "import numpy as np"
   ]
  },
  {
   "cell_type": "code",
   "execution_count": 4,
   "id": "0255ed4c-ec58-417a-82f2-fc730f19950a",
   "metadata": {},
   "outputs": [
    {
     "name": "stdout",
     "output_type": "stream",
     "text": [
      "(159, 318, 3)\n",
      "(80, 159, 3)\n",
      "(40, 80, 3)\n",
      "(20, 40, 3)\n"
     ]
    }
   ],
   "source": [
    " img = cv2.imread(\"C:/Users/sumit/OneDrive/Desktop/cvimg/img1.png\")\n",
    "print(img.shape)\n",
    "\n",
    "img1 = cv2.pyrDown(img)\n",
    "print(img1.shape)\n",
    "\n",
    "img2 = cv2.pyrDown(img1)\n",
    "print(img2.shape)\n",
    "\n",
    "img3 = cv2.pyrDown(img2)         #It reduces the width and height by half (each dimension is divided by 2).\n",
    "print(img3.shape)\n",
    "\n",
    "cv2.imshow(\"org\",img)\n",
    "cv2.imshow(\"pyr1\",img1)\n",
    "cv2.imshow(\"pyr2\",img2)\n",
    "cv2.imshow(\"pyr3\",img3)\n",
    "cv2.waitKey(0)\n",
    "cv2.destroyAllWindows()"
   ]
  },
  {
   "cell_type": "code",
   "execution_count": 7,
   "id": "5be0c64f-f536-4a84-b544-e6252f3be18e",
   "metadata": {},
   "outputs": [
    {
     "name": "stdout",
     "output_type": "stream",
     "text": [
      "(159, 318, 3)\n",
      "(80, 159, 3)\n",
      "(160, 318, 3)\n"
     ]
    }
   ],
   "source": [
    "img = cv2.imread(\"C:/Users/sumit/OneDrive/Desktop/cvimg/img1.png\")\n",
    "print(img.shape)\n",
    "\n",
    "img1 = cv2.pyrDown(img)\n",
    "print(img1.shape)\n",
    "\n",
    "big_img = cv2.pyrUp(img1)\n",
    "print(big_img.shape)\n",
    "\n",
    "cv2.imshow(\"pyr1\",img1)\n",
    "cv2.imshow(\"big_img\",big_img)\n",
    "cv2.waitKey(0)\n",
    "cv2.destroyAllWindows()"
   ]
  },
  {
   "cell_type": "code",
   "execution_count": null,
   "id": "bf6ca4d4-29b3-4867-8b29-0a7cabe0f74c",
   "metadata": {},
   "outputs": [],
   "source": []
  },
  {
   "cell_type": "markdown",
   "id": "ed5018aa-676e-4b04-8e32-c50e8844a1ae",
   "metadata": {},
   "source": [
    "# Image translation"
   ]
  },
  {
   "cell_type": "code",
   "execution_count": 11,
   "id": "c850e2f5-4ff3-4dcc-8987-c267e6568008",
   "metadata": {},
   "outputs": [],
   "source": [
    "img = cv2.imread(\"C:/Users/sumit/OneDrive/Desktop/cvimg/img1.png\")\n",
    "img = cv2.resize(img,(500,500))\n",
    "\n",
    "m = np.float32([[1,0,100],[0,1,50]])          #100 → move right by 100 pixels , 50 → move down by 50 pixels\n",
    "                                              # The 1 and 0 values keep scaling and rotation unchanged (so only translation happens).\n",
    "new = cv2.warpAffine(img,m,(500,500))\n",
    "\n",
    "cv2.imshow(\"org\",img)\n",
    "cv2.imshow(\"trans2\",new)\n",
    "cv2.waitKey(0)\n",
    "cv2.destroyAllWindows()"
   ]
  },
  {
   "cell_type": "code",
   "execution_count": null,
   "id": "fcf1fa2f-5dfc-422d-9adc-842106d319c6",
   "metadata": {},
   "outputs": [],
   "source": []
  },
  {
   "cell_type": "code",
   "execution_count": null,
   "id": "c62b0390-96b0-4d9e-b4a0-89f3f7bf5b1e",
   "metadata": {},
   "outputs": [],
   "source": []
  }
 ],
 "metadata": {
  "kernelspec": {
   "display_name": "Python 3 (ipykernel)",
   "language": "python",
   "name": "python3"
  },
  "language_info": {
   "codemirror_mode": {
    "name": "ipython",
    "version": 3
   },
   "file_extension": ".py",
   "mimetype": "text/x-python",
   "name": "python",
   "nbconvert_exporter": "python",
   "pygments_lexer": "ipython3",
   "version": "3.13.6"
  }
 },
 "nbformat": 4,
 "nbformat_minor": 5
}

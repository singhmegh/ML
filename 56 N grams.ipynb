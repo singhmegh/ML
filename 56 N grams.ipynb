{
 "cells": [
  {
   "cell_type": "code",
   "execution_count": 1,
   "id": "0703fc6d-76ad-4eec-8853-62761f36fcee",
   "metadata": {},
   "outputs": [],
   "source": [
    "x = \"i am megha singh i am a btech student i am a girl \""
   ]
  },
  {
   "cell_type": "code",
   "execution_count": 2,
   "id": "168469c8-7044-4195-9bb5-9027de418612",
   "metadata": {},
   "outputs": [],
   "source": [
    "from nltk.tokenize import word_tokenize"
   ]
  },
  {
   "cell_type": "code",
   "execution_count": 3,
   "id": "20d7e5a7-c1d5-46da-99a1-731190bf8758",
   "metadata": {},
   "outputs": [],
   "source": [
    "w = word_tokenize(x)"
   ]
  },
  {
   "cell_type": "code",
   "execution_count": 4,
   "id": "14c65eda-d7f4-471d-b9bf-6cce0eb21a99",
   "metadata": {},
   "outputs": [
    {
     "data": {
      "text/plain": [
       "['i',\n",
       " 'am',\n",
       " 'megha',\n",
       " 'singh',\n",
       " 'i',\n",
       " 'am',\n",
       " 'a',\n",
       " 'btech',\n",
       " 'student',\n",
       " 'i',\n",
       " 'am',\n",
       " 'a',\n",
       " 'girl']"
      ]
     },
     "execution_count": 4,
     "metadata": {},
     "output_type": "execute_result"
    }
   ],
   "source": [
    "w"
   ]
  },
  {
   "cell_type": "code",
   "execution_count": 5,
   "id": "94a90448-c7b2-475e-a49f-58de02f470aa",
   "metadata": {},
   "outputs": [],
   "source": [
    "from nltk.collocations import BigramCollocationFinder,TrigramCollocationFinder,ngrams"
   ]
  },
  {
   "cell_type": "code",
   "execution_count": 6,
   "id": "bb35c505-bd35-4d58-a490-bf150707f0d2",
   "metadata": {},
   "outputs": [],
   "source": [
    "b = BigramCollocationFinder.from_words(w)"
   ]
  },
  {
   "cell_type": "code",
   "execution_count": 10,
   "id": "89a2174f-7eb4-4d1f-95a4-afb52e3af88a",
   "metadata": {},
   "outputs": [
    {
     "data": {
      "text/plain": [
       "dict_keys([('i', 'am'), ('am', 'megha'), ('megha', 'singh'), ('singh', 'i'), ('am', 'a'), ('a', 'btech'), ('btech', 'student'), ('student', 'i'), ('a', 'girl')])"
      ]
     },
     "execution_count": 10,
     "metadata": {},
     "output_type": "execute_result"
    }
   ],
   "source": [
    "b.ngram_fd.keys()"
   ]
  },
  {
   "cell_type": "code",
   "execution_count": null,
   "id": "6d4c7910-6ff4-4918-9776-a706b4e73164",
   "metadata": {},
   "outputs": [],
   "source": []
  },
  {
   "cell_type": "code",
   "execution_count": 11,
   "id": "d96b8aeb-7910-4f14-8c9f-5c00da5babbc",
   "metadata": {},
   "outputs": [],
   "source": [
    "t = TrigramCollocationFinder.from_words(w)"
   ]
  },
  {
   "cell_type": "code",
   "execution_count": 14,
   "id": "21f2732b-783b-42d2-aa24-f40cec9c287a",
   "metadata": {},
   "outputs": [
    {
     "data": {
      "text/plain": [
       "FreqDist({('i', 'am', 'a'): 2, ('i', 'am', 'megha'): 1, ('am', 'megha', 'singh'): 1, ('megha', 'singh', 'i'): 1, ('singh', 'i', 'am'): 1, ('am', 'a', 'btech'): 1, ('a', 'btech', 'student'): 1, ('btech', 'student', 'i'): 1, ('student', 'i', 'am'): 1, ('am', 'a', 'girl'): 1})"
      ]
     },
     "execution_count": 14,
     "metadata": {},
     "output_type": "execute_result"
    }
   ],
   "source": [
    "t.ngram_fd"
   ]
  },
  {
   "cell_type": "code",
   "execution_count": null,
   "id": "6fa6ea9d-3119-45ba-a850-a1ffb10a8c92",
   "metadata": {},
   "outputs": [],
   "source": []
  },
  {
   "cell_type": "code",
   "execution_count": 17,
   "id": "b05879a4-70f4-4bf7-be8a-6b0d5aed130c",
   "metadata": {},
   "outputs": [],
   "source": [
    "n = ngrams(w,2)"
   ]
  },
  {
   "cell_type": "code",
   "execution_count": 18,
   "id": "c0c0c22e-5492-43dc-847e-77d064a677e4",
   "metadata": {},
   "outputs": [
    {
     "name": "stdout",
     "output_type": "stream",
     "text": [
      "('i', 'am')\n",
      "('am', 'megha')\n",
      "('megha', 'singh')\n",
      "('singh', 'i')\n",
      "('i', 'am')\n",
      "('am', 'a')\n",
      "('a', 'btech')\n",
      "('btech', 'student')\n",
      "('student', 'i')\n",
      "('i', 'am')\n",
      "('am', 'a')\n",
      "('a', 'girl')\n"
     ]
    }
   ],
   "source": [
    "for i in n:\n",
    "    print(i)"
   ]
  },
  {
   "cell_type": "code",
   "execution_count": null,
   "id": "d2136bf6-6afb-4e73-9435-6e488a500b24",
   "metadata": {},
   "outputs": [],
   "source": []
  }
 ],
 "metadata": {
  "kernelspec": {
   "display_name": "Python 3.10 (tf-env)",
   "language": "python",
   "name": "tf-env"
  },
  "language_info": {
   "codemirror_mode": {
    "name": "ipython",
    "version": 3
   },
   "file_extension": ".py",
   "mimetype": "text/x-python",
   "name": "python",
   "nbconvert_exporter": "python",
   "pygments_lexer": "ipython3",
   "version": "3.10.0"
  }
 },
 "nbformat": 4,
 "nbformat_minor": 5
}

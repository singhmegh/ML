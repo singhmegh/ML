{
 "cells": [
  {
   "cell_type": "code",
   "execution_count": 3,
   "id": "30cd20c0-3328-45e7-8ed3-7e373017a851",
   "metadata": {},
   "outputs": [
    {
     "name": "stdout",
     "output_type": "stream",
     "text": [
      "tiktoken version: 0.12.0\n"
     ]
    }
   ],
   "source": [
    "import importlib\n",
    "import tiktoken\n",
    "\n",
    "print(\"tiktoken version:\",importlib.metadata.version(\"tiktoken\"))"
   ]
  },
  {
   "cell_type": "code",
   "execution_count": 4,
   "id": "c15d9504-a73b-4f5d-abd3-776a1617ac8d",
   "metadata": {},
   "outputs": [],
   "source": [
    "tokenizer = tiktoken.get_encoding(\"gpt2\")"
   ]
  },
  {
   "cell_type": "code",
   "execution_count": 5,
   "id": "5f14a9f2-102c-4751-ac20-dbd268f84959",
   "metadata": {},
   "outputs": [
    {
     "name": "stdout",
     "output_type": "stream",
     "text": [
      "5145\n"
     ]
    }
   ],
   "source": [
    "with open(\"C:/Users/sumit/Downloads/the-verdict.txt\" , \"r\" , encoding = \"utf-8\") as f:\n",
    "    raw_text = f.read()\n",
    "    \n",
    "enc_text = tokenizer.encode(raw_text)\n",
    "print(len(enc_text))"
   ]
  },
  {
   "cell_type": "code",
   "execution_count": 6,
   "id": "4fbcdc54-69c1-42e6-a942-73c03894006d",
   "metadata": {},
   "outputs": [],
   "source": [
    "enc_sample = enc_text[50:]"
   ]
  },
  {
   "cell_type": "code",
   "execution_count": 10,
   "id": "9b07d7fc-3664-44c5-8e4f-8ace8bec0ac4",
   "metadata": {},
   "outputs": [
    {
     "name": "stdout",
     "output_type": "stream",
     "text": [
      "x:[290, 4920, 2241, 287, 257, 4489, 64, 319, 262, 34686]\n",
      "y:    [4920, 2241, 287, 257, 4489, 64, 319, 262, 34686, 41976]\n"
     ]
    }
   ],
   "source": [
    "context_size = 10 # length of the input\n",
    "\n",
    "x = enc_sample[:context_size]\n",
    "y = enc_sample[1:context_size+1]\n",
    "\n",
    "print(f\"x:{x}\")\n",
    "print(f\"y:    {y}\")"
   ]
  },
  {
   "cell_type": "code",
   "execution_count": 11,
   "id": "dc5e227b-8832-457d-a74e-a302d4bac421",
   "metadata": {},
   "outputs": [
    {
     "name": "stdout",
     "output_type": "stream",
     "text": [
      "[290] ----> 4920\n",
      "[290, 4920] ----> 2241\n",
      "[290, 4920, 2241] ----> 287\n",
      "[290, 4920, 2241, 287] ----> 257\n",
      "[290, 4920, 2241, 287, 257] ----> 4489\n",
      "[290, 4920, 2241, 287, 257, 4489] ----> 64\n",
      "[290, 4920, 2241, 287, 257, 4489, 64] ----> 319\n",
      "[290, 4920, 2241, 287, 257, 4489, 64, 319] ----> 262\n",
      "[290, 4920, 2241, 287, 257, 4489, 64, 319, 262] ----> 34686\n",
      "[290, 4920, 2241, 287, 257, 4489, 64, 319, 262, 34686] ----> 41976\n"
     ]
    }
   ],
   "source": [
    "for i in range(1,context_size+1):\n",
    "    context = enc_sample[:i]\n",
    "    desired = enc_sample[i]\n",
    "\n",
    "    print(context,\"---->\",desired)"
   ]
  },
  {
   "cell_type": "code",
   "execution_count": 12,
   "id": "2a8319df-87fe-4147-84d8-4f872750af3f",
   "metadata": {},
   "outputs": [
    {
     "name": "stdout",
     "output_type": "stream",
     "text": [
      " and ---->  established\n",
      " and established ---->  himself\n",
      " and established himself ---->  in\n",
      " and established himself in ---->  a\n",
      " and established himself in a ---->  vill\n",
      " and established himself in a vill ----> a\n",
      " and established himself in a villa ---->  on\n",
      " and established himself in a villa on ---->  the\n",
      " and established himself in a villa on the ---->  Riv\n",
      " and established himself in a villa on the Riv ----> iera\n"
     ]
    }
   ],
   "source": [
    "for i in range(1,context_size+1):\n",
    "    context = enc_sample[:i]\n",
    "    desired = enc_sample[i]\n",
    "\n",
    "    print(tokenizer.decode(context),\"---->\",tokenizer.decode([desired]))"
   ]
  },
  {
   "cell_type": "code",
   "execution_count": null,
   "id": "d8b9d813-be82-4268-bbb5-949b532f5555",
   "metadata": {},
   "outputs": [],
   "source": []
  }
 ],
 "metadata": {
  "kernelspec": {
   "display_name": "Python 3 (ipykernel)",
   "language": "python",
   "name": "python3"
  },
  "language_info": {
   "codemirror_mode": {
    "name": "ipython",
    "version": 3
   },
   "file_extension": ".py",
   "mimetype": "text/x-python",
   "name": "python",
   "nbconvert_exporter": "python",
   "pygments_lexer": "ipython3",
   "version": "3.13.6"
  }
 },
 "nbformat": 4,
 "nbformat_minor": 5
}

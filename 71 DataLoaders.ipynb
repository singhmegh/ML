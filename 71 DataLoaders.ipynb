{
 "cells": [
  {
   "cell_type": "markdown",
   "id": "8d0886af-b6c5-45db-86e0-cbc4f20cc4a8",
   "metadata": {},
   "source": [
    "### Implementing a Data Loader"
   ]
  },
  {
   "cell_type": "code",
   "execution_count": 1,
   "id": "ff2dba3b-b501-4201-9df4-cd3684b3b846",
   "metadata": {},
   "outputs": [],
   "source": [
    "# For the efficient data loader implementation,we will use PyTorch's built-in Dataset and DataLoaders classes."
   ]
  },
  {
   "cell_type": "code",
   "execution_count": 2,
   "id": "7dd2786e-9fe5-405e-b34a-35017c76519e",
   "metadata": {},
   "outputs": [],
   "source": [
    "# STEPS:\n",
    "    #1) Tokenize the entire data.\n",
    "    #2) Use a sliding window to chunk the book into overlapping sequences of max_length.\n",
    "    #3) Return the total no. of rows in the4 dataset.\n",
    "    #4) Return a single row from the dataset."
   ]
  },
  {
   "cell_type": "code",
   "execution_count": 3,
   "id": "656e17f1-2c24-4990-b279-360d7161983d",
   "metadata": {},
   "outputs": [
    {
     "name": "stdout",
     "output_type": "stream",
     "text": [
      "2.8.0+cpu\n",
      "CUDA available: False\n"
     ]
    }
   ],
   "source": [
    "import torch\n",
    "print(torch.__version__)\n",
    "print(\"CUDA available:\", torch.cuda.is_available())\n"
   ]
  },
  {
   "cell_type": "code",
   "execution_count": 12,
   "id": "ac39450c-e610-477b-a966-5b8c324ca8be",
   "metadata": {},
   "outputs": [],
   "source": [
    "from torch.utils.data import Dataset,DataLoader\n",
    "\n",
    "class GPTDatasetV1(Dataset):\n",
    "    def __init__(self,txt,tokenizer,max_length,stride):\n",
    "        self.input_ids = []\n",
    "        self.target_ids = []\n",
    "\n",
    "        #Tokenize the entire text \n",
    "        token_ids = tokenizer.encode(txt,allowed_special={\"<|endoftext|>\"})\n",
    "\n",
    "        # Use a sliding window to chunk the book into overlapping sequennces of max_length\n",
    "        for i in range(0,len(token_ids) - max_length, stride):\n",
    "             input_chunk = token_ids[i:i+max_length]\n",
    "             target_chunk = token_ids[i+1:i+max_length+1]\n",
    "             self.input_ids.append(torch.tensor(input_chunk))\n",
    "             self.target_ids.append(torch.tensor(target_chunk))\n",
    "\n",
    "    def __len__(self):\n",
    "        return len(self.input_ids)\n",
    "    def __getitem__(self,idx):\n",
    "        return self.input_ids[idx],self.target_ids[idx]"
   ]
  },
  {
   "cell_type": "code",
   "execution_count": 13,
   "id": "4dd0aa6f-bf32-4eeb-99b2-d7890571ff32",
   "metadata": {},
   "outputs": [],
   "source": [
    "# The GPTDatasetV1 is listing 2.5 based on the PyTorch Dataset classes.\n",
    "# It define how individual rows are fetched from the dataset."
   ]
  },
  {
   "cell_type": "markdown",
   "id": "c31c3969-ef93-4378-9ccf-a964ea5f7915",
   "metadata": {},
   "source": [
    "# GPTDatasetV1 is used to load the input in batches via Pytorch Dataloader"
   ]
  },
  {
   "cell_type": "code",
   "execution_count": 14,
   "id": "8860b36b-8663-463e-9811-832104ea82a4",
   "metadata": {},
   "outputs": [],
   "source": [
    "# STEPS:\n",
    "    #1) Initialize the Tokenizer.\n",
    "    #2) create Dataset\n",
    "    #3) drop_last = True drop the last batch if it shorter than specified batch_size to prevent loss spikes during training.\n",
    "    #4) The no. of CPU processes to use for preprocessing"
   ]
  },
  {
   "cell_type": "code",
   "execution_count": 15,
   "id": "74e999c7-7ea6-4736-81f0-10487a261347",
   "metadata": {},
   "outputs": [
    {
     "name": "stdout",
     "output_type": "stream",
     "text": [
      "tiktoken version: 0.12.0\n"
     ]
    }
   ],
   "source": [
    " import importlib\n",
    "import tiktoken\n",
    "\n",
    "print(\"tiktoken version:\",importlib.metadata.version(\"tiktoken\"))\n",
    "\n",
    "def create_dataloader_v1(txt,batch_size = 4,max_length = 256,stride = 128 , shuffle = True , drop_last = True , num_workers=0):\n",
    "\n",
    "    #Initialize the tokenizer\n",
    "    tokenizer = tiktoken.get_encoding(\"gpt2\")  #BPE\n",
    "\n",
    "    #create dataset\n",
    "    dataset = GPTDatasetV1(txt,tokenizer,max_length,stride)\n",
    "\n",
    "    #create dataloader\n",
    "    dataloader = DataLoader(\n",
    "        dataset,\n",
    "        batch_size = batch_size,\n",
    "        shuffle = shuffle,\n",
    "        drop_last = drop_last,\n",
    "        num_workers = num_workers\n",
    "    )\n",
    "\n",
    "    return dataloader"
   ]
  },
  {
   "cell_type": "markdown",
   "id": "ec5720c5-6cd9-42ce-8502-934aceed5982",
   "metadata": {},
   "source": [
    "# Test the dataloader"
   ]
  },
  {
   "cell_type": "code",
   "execution_count": 16,
   "id": "e35771c9-893b-47f6-80f9-bb77b9f8c62a",
   "metadata": {},
   "outputs": [],
   "source": [
    "with open(\"C:/Users/sumit/Downloads/the-verdict.txt\",\"r\",encoding = \"utf-8\") as f:\n",
    "    raw_text=f.read()"
   ]
  },
  {
   "cell_type": "code",
   "execution_count": 17,
   "id": "6c3e8c7c-5167-403e-8140-cebcef163f87",
   "metadata": {},
   "outputs": [],
   "source": [
    "# Convert dataloader into python iterator to fetch the next entry via python's vuilt-in next() function."
   ]
  },
  {
   "cell_type": "code",
   "execution_count": 18,
   "id": "dea83c86-2e1a-458a-95ab-985d48c935b4",
   "metadata": {},
   "outputs": [
    {
     "name": "stdout",
     "output_type": "stream",
     "text": [
      "pyTorch version: 2.8.0+cpu\n",
      "[tensor([[  40,  367, 2885, 1464]]), tensor([[ 367, 2885, 1464, 1807]])]\n"
     ]
    }
   ],
   "source": [
    "import torch\n",
    "print(\"pyTorch version:\",torch.__version__)\n",
    "dataloader = create_dataloader_v1(\n",
    "    raw_text,batch_size = 1, max_length=4 , stride=1 , shuffle = False\n",
    ")\n",
    "\n",
    "data_iter = iter(dataloader)\n",
    "first_batch = next(data_iter)\n",
    "print(first_batch)"
   ]
  },
  {
   "cell_type": "code",
   "execution_count": 19,
   "id": "52603718-87c0-4ce9-880a-23338cdd6ce0",
   "metadata": {},
   "outputs": [
    {
     "name": "stdout",
     "output_type": "stream",
     "text": [
      "[tensor([[ 367, 2885, 1464, 1807]]), tensor([[2885, 1464, 1807, 3619]])]\n"
     ]
    }
   ],
   "source": [
    "second_batch = next(data_iter)\n",
    "print(second_batch)"
   ]
  },
  {
   "cell_type": "code",
   "execution_count": 21,
   "id": "fc64ceeb-ff57-45cf-a303-907da8a564cb",
   "metadata": {},
   "outputs": [],
   "source": [
    "# If we compare the first with the second batch, we can see that the second batch's token IDs are shifted by one postion compared to the first batch.\n",
    "# in Deep Learning, small batch sizes required less memory during training but lead to more noisy model "
   ]
  },
  {
   "cell_type": "code",
   "execution_count": 22,
   "id": "79a18c92-c1fc-49aa-bc9e-b5d976026385",
   "metadata": {},
   "outputs": [
    {
     "name": "stdout",
     "output_type": "stream",
     "text": [
      "Inputs:\n",
      " tensor([[   40,   367,  2885,  1464],\n",
      "        [ 1807,  3619,   402,   271],\n",
      "        [10899,  2138,   257,  7026],\n",
      "        [15632,   438,  2016,   257],\n",
      "        [  922,  5891,  1576,   438],\n",
      "        [  568,   340,   373,   645],\n",
      "        [ 1049,  5975,   284,   502],\n",
      "        [  284,  3285,   326,    11]])\n",
      "\n",
      "Targets:\n",
      " tensor([[  367,  2885,  1464,  1807],\n",
      "        [ 3619,   402,   271, 10899],\n",
      "        [ 2138,   257,  7026, 15632],\n",
      "        [  438,  2016,   257,   922],\n",
      "        [ 5891,  1576,   438,   568],\n",
      "        [  340,   373,   645,  1049],\n",
      "        [ 5975,   284,   502,   284],\n",
      "        [ 3285,   326,    11,   287]])\n"
     ]
    }
   ],
   "source": [
    "dataloader = create_dataloader_v1(raw_text,batch_size = 8 , max_length = 4,stride = 4 , shuffle = False)\n",
    "\n",
    "data_iter = iter(dataloader)\n",
    "inputs,targets = next(data_iter)\n",
    "print(\"Inputs:\\n\",inputs)\n",
    "print(\"\\nTargets:\\n\",targets)"
   ]
  },
  {
   "cell_type": "code",
   "execution_count": null,
   "id": "8eeae064-accf-459d-a5f7-946c00196138",
   "metadata": {},
   "outputs": [],
   "source": []
  }
 ],
 "metadata": {
  "kernelspec": {
   "display_name": "PyTorch (Python 3.10)",
   "language": "python",
   "name": "pytorch_env"
  },
  "language_info": {
   "codemirror_mode": {
    "name": "ipython",
    "version": 3
   },
   "file_extension": ".py",
   "mimetype": "text/x-python",
   "name": "python",
   "nbconvert_exporter": "python",
   "pygments_lexer": "ipython3",
   "version": "3.10.0"
  }
 },
 "nbformat": 4,
 "nbformat_minor": 5
}

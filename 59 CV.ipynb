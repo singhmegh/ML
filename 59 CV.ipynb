{
 "cells": [
  {
   "cell_type": "code",
   "execution_count": 1,
   "id": "9eb48a68-a7fe-4863-9385-8e474aa1094a",
   "metadata": {},
   "outputs": [],
   "source": [
    "import cv2"
   ]
  },
  {
   "cell_type": "markdown",
   "id": "5cd8df5f-be97-4ee1-b663-fc5c06e1542f",
   "metadata": {},
   "source": [
    "# Read & show img"
   ]
  },
  {
   "cell_type": "code",
   "execution_count": 2,
   "id": "05af37b9-4bc1-4b6d-94a1-3cda60b0a90d",
   "metadata": {},
   "outputs": [],
   "source": [
    "img = cv2.imread(\"C:/Users/sumit/OneDrive/Documents/1636632013154.jpg\")     #Image read\n",
    "cv2.imshow(\"Read_img\",img)                                                  #Image show\n",
    "cv2.waitKey(1)                                                              # waiting time in milisecound ,(0)till you not close the window\n",
    "cv2.destroyAllWindows()                                                     # close all the window\n",
    "#cv2.destroyWindow()                                                        # close one one window"
   ]
  },
  {
   "cell_type": "markdown",
   "id": "e4237247-5f9e-40c5-9d96-8163368e288b",
   "metadata": {},
   "source": [
    "# multiple image in 1 frame"
   ]
  },
  {
   "cell_type": "code",
   "execution_count": 4,
   "id": "ff339911-535d-46cb-be7a-f4d2bb867803",
   "metadata": {},
   "outputs": [],
   "source": [
    "import numpy as np"
   ]
  },
  {
   "cell_type": "code",
   "execution_count": 10,
   "id": "400c442a-3259-4802-ac25-f4cb083b1f50",
   "metadata": {},
   "outputs": [],
   "source": [
    "img = cv2.imread(\"C:/Users/sumit/OneDrive/Documents/bg.jpg\")\n",
    "re_img = cv2.resize(img,(400,500))\n",
    "cv2.imshow(\"img\",re_img)\n",
    "cv2.waitKey(0)                                                              \n",
    "cv2.destroyAllWindows() "
   ]
  },
  {
   "cell_type": "code",
   "execution_count": 11,
   "id": "65ecfb80-fcc4-4640-9470-235e31753be9",
   "metadata": {},
   "outputs": [
    {
     "name": "stdout",
     "output_type": "stream",
     "text": [
      "[[[67 37 18]\n",
      "  [67 37 18]\n",
      "  [67 37 18]\n",
      "  ...\n",
      "  [41 28 14]\n",
      "  [41 28 14]\n",
      "  [41 28 14]]\n",
      "\n",
      " [[67 37 18]\n",
      "  [67 37 18]\n",
      "  [67 37 18]\n",
      "  ...\n",
      "  [41 28 14]\n",
      "  [41 28 14]\n",
      "  [41 28 14]]\n",
      "\n",
      " [[67 37 18]\n",
      "  [67 37 18]\n",
      "  [67 37 18]\n",
      "  ...\n",
      "  [41 28 14]\n",
      "  [41 28 14]\n",
      "  [41 28 14]]\n",
      "\n",
      " ...\n",
      "\n",
      " [[26 66 64]\n",
      "  [26 66 64]\n",
      "  [26 66 64]\n",
      "  ...\n",
      "  [19 34 30]\n",
      "  [19 34 30]\n",
      "  [19 34 30]]\n",
      "\n",
      " [[26 66 64]\n",
      "  [26 66 64]\n",
      "  [26 66 64]\n",
      "  ...\n",
      "  [19 34 30]\n",
      "  [19 34 30]\n",
      "  [19 34 30]]\n",
      "\n",
      " [[26 66 64]\n",
      "  [26 66 64]\n",
      "  [26 66 64]\n",
      "  ...\n",
      "  [19 34 30]\n",
      "  [19 34 30]\n",
      "  [19 34 30]]]\n"
     ]
    }
   ],
   "source": [
    "img = cv2.imread(\"C:/Users/sumit/OneDrive/Documents/bg.jpg\")\n",
    "print(img)"
   ]
  },
  {
   "cell_type": "code",
   "execution_count": null,
   "id": "3d4306c6-2217-4391-9d57-32afd98c73c8",
   "metadata": {},
   "outputs": [],
   "source": [
    "# h-stack / v-stack fun for concatinate the matrix"
   ]
  },
  {
   "cell_type": "code",
   "execution_count": 14,
   "id": "0852c888-df65-4708-a2ea-56b391bd42a3",
   "metadata": {},
   "outputs": [],
   "source": [
    "img = cv2.imread(\"C:/Users/sumit/OneDrive/Documents/bg.jpg\")\n",
    "re_img = cv2.resize(img,(300,300))\n",
    "h = np.hstack((re_img,re_img))\n",
    "v = np.vstack((h,h))\n",
    "cv2.imshow(\"img\",v)\n",
    "cv2.waitKey(0)                                                              \n",
    "cv2.destroyAllWindows() "
   ]
  },
  {
   "cell_type": "markdown",
   "id": "f0cc797a-c95f-433e-b43b-e7bc03406053",
   "metadata": {},
   "source": [
    "# slideshow"
   ]
  },
  {
   "cell_type": "code",
   "execution_count": null,
   "id": "92b2498f-a1a5-4bff-b22e-6775c3e6c600",
   "metadata": {},
   "outputs": [],
   "source": []
  }
 ],
 "metadata": {
  "kernelspec": {
   "display_name": "Python 3 (ipykernel)",
   "language": "python",
   "name": "python3"
  },
  "language_info": {
   "codemirror_mode": {
    "name": "ipython",
    "version": 3
   },
   "file_extension": ".py",
   "mimetype": "text/x-python",
   "name": "python",
   "nbconvert_exporter": "python",
   "pygments_lexer": "ipython3",
   "version": "3.13.6"
  }
 },
 "nbformat": 4,
 "nbformat_minor": 5
}

{
 "cells": [
  {
   "cell_type": "code",
   "execution_count": 1,
   "id": "9eb48a68-a7fe-4863-9385-8e474aa1094a",
   "metadata": {},
   "outputs": [],
   "source": [
    "import cv2"
   ]
  },
  {
   "cell_type": "markdown",
   "id": "5cd8df5f-be97-4ee1-b663-fc5c06e1542f",
   "metadata": {},
   "source": [
    "# Read & show img"
   ]
  },
  {
   "cell_type": "code",
   "execution_count": 6,
   "id": "05af37b9-4bc1-4b6d-94a1-3cda60b0a90d",
   "metadata": {},
   "outputs": [],
   "source": [
    "img = cv2.imread(\"C:/Users/sumit/OneDrive/Documents/1636632013154.jpg\")     #Image read\n",
    "cv2.imshow(\"Read_img\",img)                                                  #Image show\n",
    "cv2.waitKey(0)                                                              # waiting time in milisecound ,(0)till you not close the window\n",
    "cv2.destroyAllWindows()                                                     # close all the window\n",
    "#cv2.destroyWindow()                                                        # close one one window"
   ]
  },
  {
   "cell_type": "markdown",
   "id": "e4237247-5f9e-40c5-9d96-8163368e288b",
   "metadata": {},
   "source": [
    "# multiple image in 1 frame"
   ]
  },
  {
   "cell_type": "code",
   "execution_count": null,
   "id": "ff339911-535d-46cb-be7a-f4d2bb867803",
   "metadata": {},
   "outputs": [],
   "source": []
  }
 ],
 "metadata": {
  "kernelspec": {
   "display_name": "Python 3 (ipykernel)",
   "language": "python",
   "name": "python3"
  },
  "language_info": {
   "codemirror_mode": {
    "name": "ipython",
    "version": 3
   },
   "file_extension": ".py",
   "mimetype": "text/x-python",
   "name": "python",
   "nbconvert_exporter": "python",
   "pygments_lexer": "ipython3",
   "version": "3.13.6"
  }
 },
 "nbformat": 4,
 "nbformat_minor": 5
}

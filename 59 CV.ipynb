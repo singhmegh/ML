{
 "cells": [
  {
   "cell_type": "code",
   "execution_count": 4,
   "id": "9eb48a68-a7fe-4863-9385-8e474aa1094a",
   "metadata": {},
   "outputs": [],
   "source": [
    "import cv2"
   ]
  },
  {
   "cell_type": "markdown",
   "id": "5cd8df5f-be97-4ee1-b663-fc5c06e1542f",
   "metadata": {},
   "source": [
    "# Read & show img"
   ]
  },
  {
   "cell_type": "code",
   "execution_count": 5,
   "id": "05af37b9-4bc1-4b6d-94a1-3cda60b0a90d",
   "metadata": {},
   "outputs": [],
   "source": [
    "img = cv2.imread(\"C:/Users/sumit/OneDrive/Documents/1636632013154.jpg\")     #Image read\n",
    "cv2.imshow(\"Read_img\",img)                                                  #Image show\n",
    "cv2.waitKey(1)                                                              # waiting time in milisecound ,(0)till you not close the window\n",
    "cv2.destroyAllWindows()                                                     # close all the window\n",
    "#cv2.destroyWindow()                                                        # close one one window"
   ]
  },
  {
   "cell_type": "markdown",
   "id": "e4237247-5f9e-40c5-9d96-8163368e288b",
   "metadata": {},
   "source": [
    "# multiple image in 1 frame"
   ]
  },
  {
   "cell_type": "code",
   "execution_count": 6,
   "id": "ff339911-535d-46cb-be7a-f4d2bb867803",
   "metadata": {},
   "outputs": [],
   "source": [
    "import numpy as np"
   ]
  },
  {
   "cell_type": "code",
   "execution_count": 7,
   "id": "400c442a-3259-4802-ac25-f4cb083b1f50",
   "metadata": {},
   "outputs": [],
   "source": [
    "img = cv2.imread(\"C:/Users/sumit/OneDrive/Documents/bg.jpg\")\n",
    "re_img = cv2.resize(img,(400,500))\n",
    "cv2.imshow(\"img\",re_img)\n",
    "cv2.waitKey(0)                                                              \n",
    "cv2.destroyAllWindows() "
   ]
  },
  {
   "cell_type": "code",
   "execution_count": 8,
   "id": "65ecfb80-fcc4-4640-9470-235e31753be9",
   "metadata": {},
   "outputs": [
    {
     "name": "stdout",
     "output_type": "stream",
     "text": [
      "[[[67 37 18]\n",
      "  [67 37 18]\n",
      "  [67 37 18]\n",
      "  ...\n",
      "  [41 28 14]\n",
      "  [41 28 14]\n",
      "  [41 28 14]]\n",
      "\n",
      " [[67 37 18]\n",
      "  [67 37 18]\n",
      "  [67 37 18]\n",
      "  ...\n",
      "  [41 28 14]\n",
      "  [41 28 14]\n",
      "  [41 28 14]]\n",
      "\n",
      " [[67 37 18]\n",
      "  [67 37 18]\n",
      "  [67 37 18]\n",
      "  ...\n",
      "  [41 28 14]\n",
      "  [41 28 14]\n",
      "  [41 28 14]]\n",
      "\n",
      " ...\n",
      "\n",
      " [[26 66 64]\n",
      "  [26 66 64]\n",
      "  [26 66 64]\n",
      "  ...\n",
      "  [19 34 30]\n",
      "  [19 34 30]\n",
      "  [19 34 30]]\n",
      "\n",
      " [[26 66 64]\n",
      "  [26 66 64]\n",
      "  [26 66 64]\n",
      "  ...\n",
      "  [19 34 30]\n",
      "  [19 34 30]\n",
      "  [19 34 30]]\n",
      "\n",
      " [[26 66 64]\n",
      "  [26 66 64]\n",
      "  [26 66 64]\n",
      "  ...\n",
      "  [19 34 30]\n",
      "  [19 34 30]\n",
      "  [19 34 30]]]\n"
     ]
    }
   ],
   "source": [
    "img = cv2.imread(\"C:/Users/sumit/OneDrive/Documents/bg.jpg\")\n",
    "print(img)"
   ]
  },
  {
   "cell_type": "code",
   "execution_count": 9,
   "id": "3d4306c6-2217-4391-9d57-32afd98c73c8",
   "metadata": {},
   "outputs": [],
   "source": [
    "# h-stack / v-stack fun for concatinate the matrix"
   ]
  },
  {
   "cell_type": "code",
   "execution_count": 10,
   "id": "0852c888-df65-4708-a2ea-56b391bd42a3",
   "metadata": {},
   "outputs": [],
   "source": [
    "img = cv2.imread(\"C:/Users/sumit/OneDrive/Documents/bg.jpg\")\n",
    "re_img = cv2.resize(img,(300,300))\n",
    "h = np.hstack((re_img,re_img))\n",
    "v = np.vstack((h,h))\n",
    "cv2.imshow(\"img\",v)\n",
    "cv2.waitKey(0)                                                              \n",
    "cv2.destroyAllWindows() "
   ]
  },
  {
   "cell_type": "markdown",
   "id": "f0cc797a-c95f-433e-b43b-e7bc03406053",
   "metadata": {},
   "source": [
    "# slideshow"
   ]
  },
  {
   "cell_type": "code",
   "execution_count": 11,
   "id": "92b2498f-a1a5-4bff-b22e-6775c3e6c600",
   "metadata": {},
   "outputs": [],
   "source": [
    "import os"
   ]
  },
  {
   "cell_type": "code",
   "execution_count": 12,
   "id": "a5f147e5-2a4a-4a07-ae82-2c05e3016e95",
   "metadata": {},
   "outputs": [
    {
     "data": {
      "text/plain": [
       "['img1.png', 'img2.jpeg', 'img3.jpeg', 'img4.jpeg']"
      ]
     },
     "execution_count": 12,
     "metadata": {},
     "output_type": "execute_result"
    }
   ],
   "source": [
    "list_name = os.listdir(r\"C:\\Users\\sumit\\OneDrive\\Desktop\\cvimg\")\n",
    "list_name"
   ]
  },
  {
   "cell_type": "code",
   "execution_count": 13,
   "id": "00680247-ea73-4ef9-ba1e-d28e032586aa",
   "metadata": {},
   "outputs": [],
   "source": [
    "list_name = os.listdir(r\"C:\\Users\\sumit\\OneDrive\\Desktop\\cvimg\")\n",
    "for name in list_name:\n",
    "    path = \"C:\\\\Users\\\\sumit\\\\OneDrive\\\\Desktop\\\\cvimg\"\n",
    "    img_name = path + \"\\\\\" + name\n",
    "    img = cv2.imread(img_name)\n",
    "    img = cv2.resize(img,(300,300))\n",
    "    cv2.imshow(\"slidshow\",img)\n",
    "    cv2.waitKey(0)\n",
    "cv2.destroyAllWindows()"
   ]
  },
  {
   "cell_type": "markdown",
   "id": "3cee72b3-ae58-4055-9ff2-3e58e53255b7",
   "metadata": {},
   "source": [
    "# features "
   ]
  },
  {
   "cell_type": "code",
   "execution_count": 14,
   "id": "b50c874d-e775-4d12-a38a-5401297e37fe",
   "metadata": {},
   "outputs": [
    {
     "name": "stdout",
     "output_type": "stream",
     "text": [
      "(159, 316, 3)\n"
     ]
    }
   ],
   "source": [
    "img = cv2.imread(\"C:/Users/sumit/OneDrive/Desktop/cvimg/img3.jpeg\")   #flag: 1 --> color,0 --> greyscale ,-1 --> unchanged\n",
    "print(img.shape)\n",
    "re_img = cv2.resize(img,(400,500))\n",
    "cv2.imshow(\"img\",re_img)\n",
    "cv2.waitKey(0)                                                              \n",
    "cv2.destroyAllWindows()"
   ]
  },
  {
   "cell_type": "code",
   "execution_count": 15,
   "id": "533a9a59-e9f7-4d6f-ae1d-03fc48431647",
   "metadata": {},
   "outputs": [
    {
     "name": "stdout",
     "output_type": "stream",
     "text": [
      "(159, 316)\n"
     ]
    }
   ],
   "source": [
    "img = cv2.imread(\"C:/Users/sumit/OneDrive/Desktop/cvimg/img3.jpeg\",0)   # it contain 0 channels.\n",
    "print(img.shape)\n",
    "re_img = cv2.resize(img,(400,500))\n",
    "cv2.imshow(\"img\",re_img)\n",
    "cv2.waitKey(0)                                                              \n",
    "cv2.destroyAllWindows()"
   ]
  },
  {
   "cell_type": "markdown",
   "id": "40c8f0d2-f3b5-4e4e-b538-de59330188af",
   "metadata": {},
   "source": [
    "# Text over a img"
   ]
  },
  {
   "cell_type": "code",
   "execution_count": 16,
   "id": "0c5610d4-830d-4cf8-8e7a-c87af340b830",
   "metadata": {},
   "outputs": [],
   "source": [
    "img = cv2.imread(\"C:/Users/sumit/OneDrive/Desktop/cvimg/img1.png\")\n",
    "re_img = cv2.resize(img,(400,500))\n",
    "\n",
    "txt = cv2.putText(img=re_img,\n",
    "text=\"Hero\",\n",
    "org=(50,80),                  #origin\n",
    "fontFace=cv2.FONT_HERSHEY_DUPLEX,\n",
    "fontScale = 3,\n",
    "color=(255,0,0),\n",
    "thickness=3,\n",
    "lineType=cv2.LINE_8,\n",
    "bottomLeftOrigin=False)\n",
    "\n",
    "#reverse the text\n",
    "\n",
    "txt = cv2.putText(img=txt,\n",
    "text=\"Hero\",\n",
    "org=(50,80),\n",
    "fontFace=cv2.FONT_HERSHEY_DUPLEX,\n",
    "fontScale = 3,\n",
    "color=(0,0,255),\n",
    "thickness=3,\n",
    "lineType=cv2.LINE_8,\n",
    "bottomLeftOrigin=True)\n",
    "\n",
    "cv2.imshow(\"img\",re_img)\n",
    "cv2.waitKey(0)                                                              \n",
    "cv2.destroyAllWindows()"
   ]
  },
  {
   "cell_type": "markdown",
   "id": "579fa6c6-d2ac-42e2-9033-4e69a90508cd",
   "metadata": {},
   "source": [
    "# Draw line & box on images"
   ]
  },
  {
   "cell_type": "code",
   "execution_count": 17,
   "id": "d0c8a56c-92c0-4621-9fb0-0dbb57b9b309",
   "metadata": {},
   "outputs": [],
   "source": [
    "old_img = cv2.imread(\"C:/Users/sumit/OneDrive/Desktop/cvimg/img1.png\")\n",
    "old_img = cv2.resize(old_img,(400,500))\n",
    "\n",
    "new_img = cv2.line(img=old_img, pt1=(184,60), pt2=(240,60), color=(0,255,0), thickness=4, lineType=4)\n",
    "\n",
    "cv2.imshow(\"img\",new_img)\n",
    "cv2.waitKey(0)                                                              \n",
    "cv2.destroyAllWindows() "
   ]
  },
  {
   "cell_type": "code",
   "execution_count": 18,
   "id": "2910f5fc-b468-490e-8777-a242d7836e30",
   "metadata": {},
   "outputs": [],
   "source": [
    "old_img = cv2.imread(\"C:/Users/sumit/OneDrive/Desktop/cvimg/img1.png\")\n",
    "old_img = cv2.resize(old_img,(400,500))\n",
    "\n",
    "txt = cv2.putText(img=old_img,\n",
    "text=\"Hero\",\n",
    "org=(50,80),                 \n",
    "fontFace=cv2.FONT_HERSHEY_DUPLEX,\n",
    "fontScale = 3,\n",
    "color=(0,0,155),\n",
    "thickness=3,\n",
    "lineType=cv2.LINE_8,\n",
    "bottomLeftOrigin=False)\n",
    "\n",
    "new_img = cv2.rectangle(img=old_img, pt1=(184,10), pt2=(240,160), color=(0,255,0), thickness=4, lineType=4)     #(right,upper,left,down)\n",
    "\n",
    "cv2.imshow(\"img\",new_img)\n",
    "cv2.waitKey(0)                                                              \n",
    "cv2.destroyAllWindows() "
   ]
  },
  {
   "cell_type": "code",
   "execution_count": null,
   "id": "2c125893-2dff-4b7d-837f-3513660df4cc",
   "metadata": {},
   "outputs": [],
   "source": []
  },
  {
   "cell_type": "markdown",
   "id": "045f8bf4-7375-4e1a-b0f5-1e004c728351",
   "metadata": {},
   "source": [
    "# Draw circle & ellipse on image"
   ]
  },
  {
   "cell_type": "code",
   "execution_count": 19,
   "id": "9dbda9aa-1628-41c5-a232-bf0728f162c3",
   "metadata": {},
   "outputs": [],
   "source": [
    "old_img = cv2.imread(\"C:/Users/sumit/OneDrive/Desktop/cvimg/img1.png\")\n",
    "old_img = cv2.resize(old_img,(400,500))\n",
    "\n",
    "new_img = cv2.circle(img=old_img, center=(210,90), radius=70, color=(0,255,0), thickness=4, lineType=16)   # -1 thickness cover whole face\n",
    "                     \n",
    "cv2.imshow(\"img\",new_img)\n",
    "cv2.waitKey(0)                                                              \n",
    "cv2.destroyAllWindows() "
   ]
  },
  {
   "cell_type": "code",
   "execution_count": 20,
   "id": "a5bab6de-d79e-4fc4-b24b-c788275837af",
   "metadata": {},
   "outputs": [],
   "source": [
    "old_img = cv2.imread(\"C:/Users/sumit/OneDrive/Desktop/cvimg/img1.png\")\n",
    "old_img = cv2.resize(old_img,(400,500))\n",
    "\n",
    "txt = cv2.putText(img=old_img,\n",
    "text=\"Hero\",\n",
    "org=(50,80),                 \n",
    "fontFace=cv2.FONT_HERSHEY_DUPLEX,\n",
    "fontScale = 3,\n",
    "color=(0,0,155),\n",
    "thickness=3,\n",
    "lineType=16,\n",
    "bottomLeftOrigin=False)\n",
    "\n",
    "new_img = cv2.ellipse(img=old_img, center=(210,90),axes=(50,100),angle=30,startAngle=0,endAngle=360, color=(0,255,0), thickness=4, lineType=16)\n",
    "                     \n",
    "cv2.imshow(\"img\",new_img)\n",
    "cv2.waitKey(0)                                                              \n",
    "cv2.destroyAllWindows() "
   ]
  },
  {
   "cell_type": "code",
   "execution_count": null,
   "id": "293f5d5f-19a2-4fe3-a4ef-752c5ab9b27c",
   "metadata": {},
   "outputs": [],
   "source": []
  },
  {
   "cell_type": "markdown",
   "id": "63aecc8c-acb3-4d3d-8f50-ac631710411c",
   "metadata": {},
   "source": [
    "# draw polygon on images"
   ]
  },
  {
   "cell_type": "code",
   "execution_count": 21,
   "id": "79e45fa1-3d15-4cf7-a070-f3a3e157146f",
   "metadata": {},
   "outputs": [],
   "source": [
    "old_img = cv2.imread(\"C:/Users/sumit/OneDrive/Desktop/cvimg/img1.png\")\n",
    "old_img = cv2.resize(old_img,(400,500))\n",
    "\n",
    "new_img = cv2.polylines(img=old_img, pts=[np.array([[100,100],[260,100],[260,250],[100,250],[250,180]])],\n",
    "                        isClosed=True, color=(0,255,0), thickness=4, lineType=16)\n",
    "\n",
    "cv2.imshow(\"img\",new_img)\n",
    "cv2.waitKey(0)                                                              \n",
    "cv2.destroyAllWindows() "
   ]
  },
  {
   "cell_type": "code",
   "execution_count": null,
   "id": "dd76b549-c7e1-4536-bb43-fcc033d5757f",
   "metadata": {},
   "outputs": [],
   "source": []
  },
  {
   "cell_type": "markdown",
   "id": "2ac664e5-7096-4bf8-8b92-77ab658a1512",
   "metadata": {},
   "source": [
    "# Arithmetic Operation on Images using OpenCV"
   ]
  },
  {
   "cell_type": "code",
   "execution_count": 28,
   "id": "e089d412-9baa-4994-bdac-c796df1126e1",
   "metadata": {},
   "outputs": [],
   "source": [
    "img1 = cv2.imread(\"C:/Users/sumit/OneDrive/Desktop/cvimg/img1.png\")\n",
    "img2 = cv2.imread(\"C:/Users/sumit/OneDrive/Desktop/cvimg/img3.jpeg\")\n",
    "\n",
    "img1 = cv2.resize(img1,(400,400))\n",
    "img2 = cv2.resize(img2,(400,400))\n",
    "\n",
    "new_img = cv2.addWeighted(img1,0.2,img2,1,1)\n",
    "#new_img = cv2.subtract(img1,img2)\n",
    "\n",
    "cv2.imshow(\"heros\",new_img)\n",
    "cv2.waitKey(0)\n",
    "cv2.destroyAllWindows()"
   ]
  },
  {
   "cell_type": "code",
   "execution_count": null,
   "id": "5b212737-d957-4468-b822-60bdc53bc238",
   "metadata": {},
   "outputs": [],
   "source": []
  },
  {
   "cell_type": "markdown",
   "id": "356a8fa3-29ca-4299-851a-1c6906dad8ed",
   "metadata": {},
   "source": [
    "# Bitwise operations on Binary images"
   ]
  },
  {
   "cell_type": "code",
   "execution_count": 38,
   "id": "009c2b31-cb3d-4615-8fb1-062ae21fd2b2",
   "metadata": {},
   "outputs": [],
   "source": [
    "img1 = cv2.imread(\"C:/Users/sumit/OneDrive/Desktop/cvimg/b2.jpeg\")\n",
    "img2 = cv2.imread(\"C:/Users/sumit/OneDrive/Desktop/cvimg/b1.png\")\n",
    "\n",
    "img1 = cv2.resize(img1,(300,300))\n",
    "img2 = cv2.resize(img2,(300,300))\n",
    "\n",
    "#new = cv2.bitwise_and(img1,img2)\n",
    "#new = cv2.bitwise_or(img1,img2)\n",
    "#new = cv2.bitwise_xor(img1,img2)\n",
    "new=cv2.bitwise_not(img1)\n",
    "new1=cv2.bitwise_not(img2)\n",
    "\n",
    "h = np.hstack((img1,new))\n",
    "h1 = np.hstack((img2,new1))\n",
    "\n",
    "v=np.vstack((h,h1))\n",
    "\n",
    "cv2.imshow(\"Bitwise\",v)\n",
    "cv2.waitKey(0)\n",
    "cv2.destroyAllWindows()\n",
    "              "
   ]
  },
  {
   "cell_type": "code",
   "execution_count": null,
   "id": "9c6f287a-7d46-45cb-9e75-c0315614da53",
   "metadata": {},
   "outputs": [],
   "source": []
  },
  {
   "cell_type": "markdown",
   "id": "c9d78571-c612-47a2-bbce-ecac009ecf43",
   "metadata": {},
   "source": [
    "# Edge detection"
   ]
  },
  {
   "cell_type": "code",
   "execution_count": 45,
   "id": "8bfba4c4-050b-4a4b-8250-891b73e0eb0c",
   "metadata": {},
   "outputs": [
    {
     "name": "stdout",
     "output_type": "stream",
     "text": [
      "(400, 400, 3)\n",
      "(400, 400)\n"
     ]
    }
   ],
   "source": [
    "img = cv2.imread(\"C:/Users/sumit/OneDrive/Desktop/cvimg/img2.jpeg\")\n",
    "img = cv2.resize(img,(400,400))\n",
    "print(img.shape)\n",
    "\n",
    "new_img = cv2.Canny(img,50,50,apertureSize =5,L2gradient=True) #AppertureSize will be 3 to 7 only odd ones\n",
    "print(new_img.shape)\n",
    "\n",
    "cv2.imshow(\"with_edge\",new_img)\n",
    "cv2.imshow(\"Without_edge\",img)\n",
    "\n",
    "cv2.waitKey(0)\n",
    "cv2.destroyAllWindows()"
   ]
  },
  {
   "cell_type": "code",
   "execution_count": null,
   "id": "590799f3-90e1-4729-956d-227c300138d0",
   "metadata": {},
   "outputs": [],
   "source": []
  },
  {
   "cell_type": "markdown",
   "id": "cfd4e6a7-78ff-4fbd-92fc-fd05ba63456b",
   "metadata": {},
   "source": [
    "# Image Scaling,rotation"
   ]
  },
  {
   "cell_type": "code",
   "execution_count": 49,
   "id": "8d0a4612-5ec8-4ac8-9f64-993eba5ce882",
   "metadata": {},
   "outputs": [],
   "source": [
    "img = cv2.imread(\"C:/Users/sumit/OneDrive/Desktop/cvimg/img1.png\")\n",
    "re_img = cv2.resize(img,(400,400))\n",
    "\n",
    "w,h =re_img.shape[0],re_img.shape[1]\n",
    "\n",
    "m = cv2.getRotationMatrix2D((w/2,h/2),40,1)\n",
    "new_img = cv2.warpAffine(re_img,m,(w,h))\n",
    "\n",
    "cv2.imshow(\"img_after_rotation\",new_img)\n",
    "cv2.waitKey(0)\n",
    "cv2.destroyAllWindows()"
   ]
  },
  {
   "cell_type": "code",
   "execution_count": null,
   "id": "a842dd96-29f6-4134-9edb-d55ae1a5563a",
   "metadata": {},
   "outputs": [],
   "source": []
  },
  {
   "cell_type": "markdown",
   "id": "c0233c62-8c7f-4f42-b719-0cdb343727d7",
   "metadata": {},
   "source": [
    "# img blurring"
   ]
  },
  {
   "cell_type": "code",
   "execution_count": null,
   "id": "ce57c10b-a433-4c03-b97f-7d107f6521e9",
   "metadata": {},
   "outputs": [],
   "source": []
  },
  {
   "cell_type": "code",
   "execution_count": null,
   "id": "d0195645-afa1-49a7-8ac0-1f8cc32d7e59",
   "metadata": {},
   "outputs": [],
   "source": []
  }
 ],
 "metadata": {
  "kernelspec": {
   "display_name": "Python 3 (ipykernel)",
   "language": "python",
   "name": "python3"
  },
  "language_info": {
   "codemirror_mode": {
    "name": "ipython",
    "version": 3
   },
   "file_extension": ".py",
   "mimetype": "text/x-python",
   "name": "python",
   "nbconvert_exporter": "python",
   "pygments_lexer": "ipython3",
   "version": "3.13.6"
  }
 },
 "nbformat": 4,
 "nbformat_minor": 5
}
